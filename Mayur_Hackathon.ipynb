{
 "cells": [
  {
   "cell_type": "code",
   "execution_count": 1,
   "id": "15131802",
   "metadata": {},
   "outputs": [],
   "source": [
    "import pandas as pd\n",
    "import numpy as np\n",
    "import matplotlib.pyplot as plt\n",
    "import tensorflow as tf\n",
    "import seaborn as sns\n",
    "from sklearn.preprocessing import MinMaxScaler\n",
    "from sklearn.linear_model import LinearRegression\n",
    "from sklearn.model_selection import train_test_split\n",
    "from sklearn.metrics import mean_squared_error, r2_score\n",
    "from sklearn.ensemble import RandomForestRegressor"
   ]
  },
  {
   "cell_type": "code",
   "execution_count": 2,
   "id": "4dbe19fa",
   "metadata": {},
   "outputs": [
    {
     "data": {
      "text/html": [
       "<div>\n",
       "<style scoped>\n",
       "    .dataframe tbody tr th:only-of-type {\n",
       "        vertical-align: middle;\n",
       "    }\n",
       "\n",
       "    .dataframe tbody tr th {\n",
       "        vertical-align: top;\n",
       "    }\n",
       "\n",
       "    .dataframe thead th {\n",
       "        text-align: right;\n",
       "    }\n",
       "</style>\n",
       "<table border=\"1\" class=\"dataframe\">\n",
       "  <thead>\n",
       "    <tr style=\"text-align: right;\">\n",
       "      <th></th>\n",
       "      <th>dates</th>\n",
       "      <th>Factor A</th>\n",
       "      <th>Factor B</th>\n",
       "      <th>Factor C</th>\n",
       "      <th>Factor D</th>\n",
       "      <th>Factor E</th>\n",
       "      <th>Factor F</th>\n",
       "      <th>Factor G</th>\n",
       "      <th>Factor H</th>\n",
       "      <th>Factor I</th>\n",
       "      <th>Factor J</th>\n",
       "      <th>Factor K</th>\n",
       "      <th>Factor L</th>\n",
       "      <th>Factor M</th>\n",
       "      <th>Factor N</th>\n",
       "      <th>TGD Consultancy Share price</th>\n",
       "      <th>TGD Automobiles Share price</th>\n",
       "      <th>TGD Power Share price</th>\n",
       "    </tr>\n",
       "  </thead>\n",
       "  <tbody>\n",
       "    <tr>\n",
       "      <th>0</th>\n",
       "      <td>1700-01-01</td>\n",
       "      <td>502.52</td>\n",
       "      <td>498.78</td>\n",
       "      <td>493.98</td>\n",
       "      <td>947.6</td>\n",
       "      <td>505.24</td>\n",
       "      <td>79050.0</td>\n",
       "      <td>502.10</td>\n",
       "      <td>502.73</td>\n",
       "      <td>630.41</td>\n",
       "      <td>496.60</td>\n",
       "      <td>508.95</td>\n",
       "      <td>512.01</td>\n",
       "      <td>499.20</td>\n",
       "      <td>501.94</td>\n",
       "      <td>519.0</td>\n",
       "      <td>420.0</td>\n",
       "      <td>507.0</td>\n",
       "    </tr>\n",
       "    <tr>\n",
       "      <th>1</th>\n",
       "      <td>1700-01-02</td>\n",
       "      <td>503.33</td>\n",
       "      <td>495.09</td>\n",
       "      <td>496.93</td>\n",
       "      <td>928.6</td>\n",
       "      <td>506.21</td>\n",
       "      <td>31082.0</td>\n",
       "      <td>502.28</td>\n",
       "      <td>501.96</td>\n",
       "      <td>630.61</td>\n",
       "      <td>496.76</td>\n",
       "      <td>508.97</td>\n",
       "      <td>512.45</td>\n",
       "      <td>500.14</td>\n",
       "      <td>501.51</td>\n",
       "      <td>518.0</td>\n",
       "      <td>420.0</td>\n",
       "      <td>507.0</td>\n",
       "    </tr>\n",
       "    <tr>\n",
       "      <th>2</th>\n",
       "      <td>1700-01-03</td>\n",
       "      <td>500.62</td>\n",
       "      <td>493.71</td>\n",
       "      <td>504.75</td>\n",
       "      <td>935.5</td>\n",
       "      <td>505.51</td>\n",
       "      <td>19375.0</td>\n",
       "      <td>502.09</td>\n",
       "      <td>499.17</td>\n",
       "      <td>630.81</td>\n",
       "      <td>496.91</td>\n",
       "      <td>508.99</td>\n",
       "      <td>513.31</td>\n",
       "      <td>499.96</td>\n",
       "      <td>501.00</td>\n",
       "      <td>523.0</td>\n",
       "      <td>437.0</td>\n",
       "      <td>522.0</td>\n",
       "    </tr>\n",
       "    <tr>\n",
       "      <th>3</th>\n",
       "      <td>1700-01-04</td>\n",
       "      <td>502.08</td>\n",
       "      <td>492.98</td>\n",
       "      <td>502.20</td>\n",
       "      <td>923.5</td>\n",
       "      <td>505.25</td>\n",
       "      <td>22010.0</td>\n",
       "      <td>501.88</td>\n",
       "      <td>500.43</td>\n",
       "      <td>631.01</td>\n",
       "      <td>497.06</td>\n",
       "      <td>509.01</td>\n",
       "      <td>513.49</td>\n",
       "      <td>500.05</td>\n",
       "      <td>501.04</td>\n",
       "      <td>522.0</td>\n",
       "      <td>437.0</td>\n",
       "      <td>522.0</td>\n",
       "    </tr>\n",
       "    <tr>\n",
       "      <th>4</th>\n",
       "      <td>1700-01-05</td>\n",
       "      <td>502.81</td>\n",
       "      <td>493.23</td>\n",
       "      <td>499.57</td>\n",
       "      <td>918.1</td>\n",
       "      <td>504.86</td>\n",
       "      <td>26533.0</td>\n",
       "      <td>501.70</td>\n",
       "      <td>501.46</td>\n",
       "      <td>631.21</td>\n",
       "      <td>497.21</td>\n",
       "      <td>509.03</td>\n",
       "      <td>513.59</td>\n",
       "      <td>500.31</td>\n",
       "      <td>501.10</td>\n",
       "      <td>522.0</td>\n",
       "      <td>437.0</td>\n",
       "      <td>522.0</td>\n",
       "    </tr>\n",
       "    <tr>\n",
       "      <th>...</th>\n",
       "      <td>...</td>\n",
       "      <td>...</td>\n",
       "      <td>...</td>\n",
       "      <td>...</td>\n",
       "      <td>...</td>\n",
       "      <td>...</td>\n",
       "      <td>...</td>\n",
       "      <td>...</td>\n",
       "      <td>...</td>\n",
       "      <td>...</td>\n",
       "      <td>...</td>\n",
       "      <td>...</td>\n",
       "      <td>...</td>\n",
       "      <td>...</td>\n",
       "      <td>...</td>\n",
       "      <td>...</td>\n",
       "      <td>...</td>\n",
       "      <td>...</td>\n",
       "    </tr>\n",
       "    <tr>\n",
       "      <th>161763</th>\n",
       "      <td>2142-11-23</td>\n",
       "      <td>10499.99</td>\n",
       "      <td>10499.99</td>\n",
       "      <td>10499.99</td>\n",
       "      <td>100499.9</td>\n",
       "      <td>1499.99</td>\n",
       "      <td>10000500.0</td>\n",
       "      <td>599.99</td>\n",
       "      <td>1499.99</td>\n",
       "      <td>10499.99</td>\n",
       "      <td>10499.99</td>\n",
       "      <td>10499.99</td>\n",
       "      <td>10499.99</td>\n",
       "      <td>10499.99</td>\n",
       "      <td>10499.99</td>\n",
       "      <td>498.0</td>\n",
       "      <td>420.0</td>\n",
       "      <td>507.0</td>\n",
       "    </tr>\n",
       "    <tr>\n",
       "      <th>161764</th>\n",
       "      <td>2142-11-24</td>\n",
       "      <td>10499.99</td>\n",
       "      <td>10499.99</td>\n",
       "      <td>10499.99</td>\n",
       "      <td>100499.9</td>\n",
       "      <td>1499.99</td>\n",
       "      <td>10000500.0</td>\n",
       "      <td>599.99</td>\n",
       "      <td>1499.99</td>\n",
       "      <td>10499.99</td>\n",
       "      <td>10499.99</td>\n",
       "      <td>10499.99</td>\n",
       "      <td>10499.99</td>\n",
       "      <td>10499.99</td>\n",
       "      <td>10499.99</td>\n",
       "      <td>502.0</td>\n",
       "      <td>420.0</td>\n",
       "      <td>507.0</td>\n",
       "    </tr>\n",
       "    <tr>\n",
       "      <th>161765</th>\n",
       "      <td>2142-11-25</td>\n",
       "      <td>10499.99</td>\n",
       "      <td>10499.99</td>\n",
       "      <td>10499.99</td>\n",
       "      <td>100499.9</td>\n",
       "      <td>1499.99</td>\n",
       "      <td>10000500.0</td>\n",
       "      <td>599.99</td>\n",
       "      <td>1499.99</td>\n",
       "      <td>10499.99</td>\n",
       "      <td>10499.99</td>\n",
       "      <td>10499.99</td>\n",
       "      <td>10499.99</td>\n",
       "      <td>10499.99</td>\n",
       "      <td>10499.99</td>\n",
       "      <td>508.0</td>\n",
       "      <td>420.0</td>\n",
       "      <td>507.0</td>\n",
       "    </tr>\n",
       "    <tr>\n",
       "      <th>161766</th>\n",
       "      <td>2142-11-26</td>\n",
       "      <td>10499.99</td>\n",
       "      <td>10499.99</td>\n",
       "      <td>10499.99</td>\n",
       "      <td>100499.9</td>\n",
       "      <td>1499.99</td>\n",
       "      <td>10000500.0</td>\n",
       "      <td>599.99</td>\n",
       "      <td>1499.99</td>\n",
       "      <td>10499.99</td>\n",
       "      <td>10499.99</td>\n",
       "      <td>10499.99</td>\n",
       "      <td>10499.99</td>\n",
       "      <td>10499.99</td>\n",
       "      <td>10499.99</td>\n",
       "      <td>507.0</td>\n",
       "      <td>420.0</td>\n",
       "      <td>507.0</td>\n",
       "    </tr>\n",
       "    <tr>\n",
       "      <th>161767</th>\n",
       "      <td>2142-11-27</td>\n",
       "      <td>10499.99</td>\n",
       "      <td>10499.99</td>\n",
       "      <td>10499.99</td>\n",
       "      <td>100499.9</td>\n",
       "      <td>1499.99</td>\n",
       "      <td>10000500.0</td>\n",
       "      <td>599.99</td>\n",
       "      <td>1499.99</td>\n",
       "      <td>10499.99</td>\n",
       "      <td>10499.99</td>\n",
       "      <td>10499.99</td>\n",
       "      <td>10499.99</td>\n",
       "      <td>10499.99</td>\n",
       "      <td>10499.99</td>\n",
       "      <td>499.0</td>\n",
       "      <td>420.0</td>\n",
       "      <td>507.0</td>\n",
       "    </tr>\n",
       "  </tbody>\n",
       "</table>\n",
       "<p>161768 rows × 18 columns</p>\n",
       "</div>"
      ],
      "text/plain": [
       "             dates  Factor A  Factor B  Factor C  Factor D  Factor E  \\\n",
       "0       1700-01-01    502.52    498.78    493.98     947.6    505.24   \n",
       "1       1700-01-02    503.33    495.09    496.93     928.6    506.21   \n",
       "2       1700-01-03    500.62    493.71    504.75     935.5    505.51   \n",
       "3       1700-01-04    502.08    492.98    502.20     923.5    505.25   \n",
       "4       1700-01-05    502.81    493.23    499.57     918.1    504.86   \n",
       "...            ...       ...       ...       ...       ...       ...   \n",
       "161763  2142-11-23  10499.99  10499.99  10499.99  100499.9   1499.99   \n",
       "161764  2142-11-24  10499.99  10499.99  10499.99  100499.9   1499.99   \n",
       "161765  2142-11-25  10499.99  10499.99  10499.99  100499.9   1499.99   \n",
       "161766  2142-11-26  10499.99  10499.99  10499.99  100499.9   1499.99   \n",
       "161767  2142-11-27  10499.99  10499.99  10499.99  100499.9   1499.99   \n",
       "\n",
       "          Factor F  Factor G  Factor H  Factor I  Factor J  Factor K  \\\n",
       "0          79050.0    502.10    502.73    630.41    496.60    508.95   \n",
       "1          31082.0    502.28    501.96    630.61    496.76    508.97   \n",
       "2          19375.0    502.09    499.17    630.81    496.91    508.99   \n",
       "3          22010.0    501.88    500.43    631.01    497.06    509.01   \n",
       "4          26533.0    501.70    501.46    631.21    497.21    509.03   \n",
       "...            ...       ...       ...       ...       ...       ...   \n",
       "161763  10000500.0    599.99   1499.99  10499.99  10499.99  10499.99   \n",
       "161764  10000500.0    599.99   1499.99  10499.99  10499.99  10499.99   \n",
       "161765  10000500.0    599.99   1499.99  10499.99  10499.99  10499.99   \n",
       "161766  10000500.0    599.99   1499.99  10499.99  10499.99  10499.99   \n",
       "161767  10000500.0    599.99   1499.99  10499.99  10499.99  10499.99   \n",
       "\n",
       "        Factor L  Factor M  Factor N  TGD Consultancy Share price  \\\n",
       "0         512.01    499.20    501.94                        519.0   \n",
       "1         512.45    500.14    501.51                        518.0   \n",
       "2         513.31    499.96    501.00                        523.0   \n",
       "3         513.49    500.05    501.04                        522.0   \n",
       "4         513.59    500.31    501.10                        522.0   \n",
       "...          ...       ...       ...                          ...   \n",
       "161763  10499.99  10499.99  10499.99                        498.0   \n",
       "161764  10499.99  10499.99  10499.99                        502.0   \n",
       "161765  10499.99  10499.99  10499.99                        508.0   \n",
       "161766  10499.99  10499.99  10499.99                        507.0   \n",
       "161767  10499.99  10499.99  10499.99                        499.0   \n",
       "\n",
       "        TGD Automobiles Share price  TGD Power Share price  \n",
       "0                             420.0                  507.0  \n",
       "1                             420.0                  507.0  \n",
       "2                             437.0                  522.0  \n",
       "3                             437.0                  522.0  \n",
       "4                             437.0                  522.0  \n",
       "...                             ...                    ...  \n",
       "161763                        420.0                  507.0  \n",
       "161764                        420.0                  507.0  \n",
       "161765                        420.0                  507.0  \n",
       "161766                        420.0                  507.0  \n",
       "161767                        420.0                  507.0  \n",
       "\n",
       "[161768 rows x 18 columns]"
      ]
     },
     "execution_count": 2,
     "metadata": {},
     "output_type": "execute_result"
    }
   ],
   "source": [
    "data = pd.read_csv(\"Hackathon_train.csv\")\n",
    "data"
   ]
  },
  {
   "cell_type": "code",
   "execution_count": 3,
   "id": "258f12bb",
   "metadata": {},
   "outputs": [
    {
     "data": {
      "text/plain": [
       "Index(['dates', 'Factor A', 'Factor B', 'Factor C', 'Factor D', 'Factor E',\n",
       "       'Factor F', 'Factor G', 'Factor H', 'Factor I', 'Factor J', 'Factor K',\n",
       "       'Factor L', 'Factor M', 'Factor N', 'TGD Consultancy Share price',\n",
       "       'TGD Automobiles Share price', 'TGD Power Share price'],\n",
       "      dtype='object')"
      ]
     },
     "execution_count": 3,
     "metadata": {},
     "output_type": "execute_result"
    }
   ],
   "source": [
    "data.columns"
   ]
  },
  {
   "cell_type": "code",
   "execution_count": 4,
   "id": "7e6996e4",
   "metadata": {},
   "outputs": [],
   "source": [
    "consultancy_data = data[['Factor A', 'Factor B', 'Factor C', 'Factor D', 'Factor E', 'Factor F', 'Factor G', \n",
    "                        'Factor H', 'Factor I', 'Factor J', 'Factor K', 'Factor L', 'Factor M', 'Factor N', \n",
    "                        'TGD Consultancy Share price']]\n",
    "automobiles_data = data[['Factor A', 'Factor B', 'Factor C', 'Factor D', 'Factor E',\n",
    "                       'Factor F', 'Factor G', 'Factor H', 'Factor I', 'Factor J', 'Factor K',\n",
    "                       'Factor L', 'Factor M', 'Factor N','TGD Automobiles Share price']]\n",
    "power_data = data[['Factor A', 'Factor B', 'Factor C', 'Factor D', 'Factor E',\n",
    "                   'Factor F', 'Factor G', 'Factor H', 'Factor I', 'Factor J', 'Factor K',\n",
    "                   'Factor L', 'Factor M', 'Factor N','TGD Power Share price']]"
   ]
  },
  {
   "cell_type": "markdown",
   "id": "6a719dd5",
   "metadata": {},
   "source": [
    "# Plots for TGD Consultancy Data"
   ]
  },
  {
   "cell_type": "code",
   "execution_count": 5,
   "id": "3bb8c2a1",
   "metadata": {},
   "outputs": [
    {
     "data": {
      "text/plain": [
       "<AxesSubplot:>"
      ]
     },
     "execution_count": 5,
     "metadata": {},
     "output_type": "execute_result"
    },
    {
     "data": {
      "image/png": "[encoded data removed]",
      "text/plain": [
       "<Figure size 576x432 with 2 Axes>"
      ]
     },
     "metadata": {
      "needs_background": "light"
     },
     "output_type": "display_data"
    }
   ],
   "source": [
    "consultancy_corr = pd.DataFrame(consultancy_data.corr().iloc[:,-1])\n",
    "plt.figure(figsize=(8,6))\n",
    "sns.heatmap(consultancy_corr, annot=True)"
   ]
  },
  {
   "cell_type": "markdown",
   "id": "0980ab33",
   "metadata": {},
   "source": [
    "### Factors H, and Factor I make more influence as compared to other parameters on TGD Consultancy Share Price"
   ]
  },
  {
   "cell_type": "code",
   "execution_count": 6,
   "id": "bd019b68",
   "metadata": {},
   "outputs": [
    {
     "data": {
      "image/png": "[encoded data removed]",
      "text/plain": [
       "<Figure size 576x576 with 2 Axes>"
      ]
     },
     "metadata": {
      "needs_background": "light"
     },
     "output_type": "display_data"
    }
   ],
   "source": [
    "plt.figure(figsize=(8,8))\n",
    "plt.title(\"3D plot of Factor H, Factor I and TGD Consultancy Share Price\")\n",
    "plt_axes = plt.axes(projection='3d')\n",
    "plt_axes.scatter3D(consultancy_data['Factor H'], consultancy_data['Factor I'], \n",
    "                   consultancy_data['TGD Consultancy Share price'], color = 'red')\n",
    "plt.xlabel('Factor H')\n",
    "plt.ylabel('Factor I')\n",
    "plt.show()"
   ]
  },
  {
   "cell_type": "markdown",
   "id": "d49a65c3",
   "metadata": {},
   "source": [
    "# Plots for Automobile data"
   ]
  },
  {
   "cell_type": "code",
   "execution_count": 7,
   "id": "3a2e5924",
   "metadata": {},
   "outputs": [
    {
     "data": {
      "text/plain": [
       "<AxesSubplot:>"
      ]
     },
     "execution_count": 7,
     "metadata": {},
     "output_type": "execute_result"
    },
    {
     "data": {
      "image/png": "[encoded data removed]",
      "text/plain": [
       "<Figure size 576x432 with 2 Axes>"
      ]
     },
     "metadata": {
      "needs_background": "light"
     },
     "output_type": "display_data"
    }
   ],
   "source": [
    "automobiles_corr = pd.DataFrame(automobiles_data.corr().iloc[:,-1])\n",
    "plt.figure(figsize=(8,6))\n",
    "sns.heatmap(automobiles_corr, annot=True)"
   ]
  },
  {
   "cell_type": "markdown",
   "id": "6da08735",
   "metadata": {},
   "source": [
    "### Factor H, Factor I make more influence on TGD Automobile Share Price"
   ]
  },
  {
   "cell_type": "code",
   "execution_count": 8,
   "id": "561ed012",
   "metadata": {},
   "outputs": [
    {
     "data": {
      "image/png": "[encoded data removed]",
      "text/plain": [
       "<Figure size 576x576 with 2 Axes>"
      ]
     },
     "metadata": {
      "needs_background": "light"
     },
     "output_type": "display_data"
    }
   ],
   "source": [
    "plt.figure(figsize=(8,8))\n",
    "plt.title(\"3D plot of Factor H, Factor I and TGD Automobile Share Price\")\n",
    "plt_axes = plt.axes(projection='3d')\n",
    "plt_axes.scatter3D(automobiles_data['Factor H'], automobiles_data['Factor I'], \n",
    "                   automobiles_data['TGD Automobiles Share price'], color = 'red')\n",
    "plt.xlabel('Factor H')\n",
    "plt.ylabel('Factor I')\n",
    "plt.show()"
   ]
  },
  {
   "cell_type": "markdown",
   "id": "e383d197",
   "metadata": {},
   "source": [
    "# Plots for TGD Power Share Prices"
   ]
  },
  {
   "cell_type": "code",
   "execution_count": 9,
   "id": "68174a21",
   "metadata": {},
   "outputs": [
    {
     "data": {
      "text/plain": [
       "<AxesSubplot:>"
      ]
     },
     "execution_count": 9,
     "metadata": {},
     "output_type": "execute_result"
    },
    {
     "data": {
      "image/png": "[encoded data removed]",
      "text/plain": [
       "<Figure size 576x432 with 2 Axes>"
      ]
     },
     "metadata": {
      "needs_background": "light"
     },
     "output_type": "display_data"
    }
   ],
   "source": [
    "power_corr = pd.DataFrame(power_data.corr().iloc[:,-1])\n",
    "plt.figure(figsize=(8,6))\n",
    "sns.heatmap(power_corr, annot=True)"
   ]
  },
  {
   "cell_type": "markdown",
   "id": "903085c8",
   "metadata": {},
   "source": [
    "### Factor B, and Factor M influence more on the TGD Power dataset"
   ]
  },
  {
   "cell_type": "code",
   "execution_count": 10,
   "id": "f1643ee5",
   "metadata": {},
   "outputs": [
    {
     "data": {
      "image/png": "[encoded data removed]",
      "text/plain": [
       "<Figure size 576x576 with 2 Axes>"
      ]
     },
     "metadata": {
      "needs_background": "light"
     },
     "output_type": "display_data"
    }
   ],
   "source": [
    "plt.figure(figsize=(8,8))\n",
    "plt.title(\"3D plot of Factor B, Factor M and TGD Power Share Price\")\n",
    "plt_axes = plt.axes(projection='3d')\n",
    "plt_axes.scatter3D(power_data['Factor B'], power_data['Factor M'], \n",
    "                   power_data['TGD Power Share price'], color = 'red')\n",
    "plt.xlabel('Factor B')\n",
    "plt.ylabel('Factor M')\n",
    "plt.show()"
   ]
  },
  {
   "cell_type": "markdown",
   "id": "d6418791",
   "metadata": {},
   "source": [
    "# Hence, we can't Use Multiple Linear Regression Model"
   ]
  },
  {
   "cell_type": "code",
   "execution_count": 5,
   "id": "40f763b6",
   "metadata": {},
   "outputs": [],
   "source": [
    "x = data[['Factor A', 'Factor B', 'Factor C', 'Factor D', 'Factor E',\n",
    "       'Factor F', 'Factor G', 'Factor H', 'Factor I', 'Factor J', 'Factor K',\n",
    "       'Factor L', 'Factor M', 'Factor N']]\n",
    "y_consult = data['TGD Consultancy Share price']\n",
    "y_auto = data['TGD Automobiles Share price']\n",
    "y_power = data['TGD Power Share price']"
   ]
  },
  {
   "cell_type": "markdown",
   "id": "0be3c1d5",
   "metadata": {},
   "source": [
    "## Finding relation between three Subsidiary Share Prices"
   ]
  },
  {
   "cell_type": "code",
   "execution_count": 12,
   "id": "fda1a17b",
   "metadata": {},
   "outputs": [
    {
     "data": {
      "image/png": "[encoded data removed]",
      "text/plain": [
       "<Figure size 432x288 with 2 Axes>"
      ]
     },
     "metadata": {
      "needs_background": "light"
     },
     "output_type": "display_data"
    }
   ],
   "source": [
    "y_combined = pd.concat([y_consult, y_auto, y_power], axis = 1)\n",
    "y_combined_corr = y_combined.corr()\n",
    "plt.figure(figsize=(6,4))\n",
    "sns.heatmap(y_combined_corr, annot=True)\n",
    "plt.show()"
   ]
  },
  {
   "cell_type": "code",
   "execution_count": 13,
   "id": "6ac9a73e",
   "metadata": {},
   "outputs": [
    {
     "data": {
      "text/html": [
       "<div>\n",
       "<style scoped>\n",
       "    .dataframe tbody tr th:only-of-type {\n",
       "        vertical-align: middle;\n",
       "    }\n",
       "\n",
       "    .dataframe tbody tr th {\n",
       "        vertical-align: top;\n",
       "    }\n",
       "\n",
       "    .dataframe thead th {\n",
       "        text-align: right;\n",
       "    }\n",
       "</style>\n",
       "<table border=\"1\" class=\"dataframe\">\n",
       "  <thead>\n",
       "    <tr style=\"text-align: right;\">\n",
       "      <th></th>\n",
       "      <th>0</th>\n",
       "      <th>1</th>\n",
       "      <th>2</th>\n",
       "      <th>3</th>\n",
       "      <th>4</th>\n",
       "      <th>5</th>\n",
       "      <th>6</th>\n",
       "      <th>7</th>\n",
       "      <th>8</th>\n",
       "      <th>9</th>\n",
       "      <th>10</th>\n",
       "      <th>11</th>\n",
       "      <th>12</th>\n",
       "      <th>13</th>\n",
       "    </tr>\n",
       "  </thead>\n",
       "  <tbody>\n",
       "    <tr>\n",
       "      <th>0</th>\n",
       "      <td>0.004137</td>\n",
       "      <td>0.002725</td>\n",
       "      <td>0.005143</td>\n",
       "      <td>0.000824</td>\n",
       "      <td>0.009201</td>\n",
       "      <td>0.003130</td>\n",
       "      <td>0.018207</td>\n",
       "      <td>0.030466</td>\n",
       "      <td>0.029003</td>\n",
       "      <td>0.039180</td>\n",
       "      <td>0.003354</td>\n",
       "      <td>0.000877</td>\n",
       "      <td>0.000904</td>\n",
       "      <td>0.000695</td>\n",
       "    </tr>\n",
       "    <tr>\n",
       "      <th>1</th>\n",
       "      <td>0.004410</td>\n",
       "      <td>0.003167</td>\n",
       "      <td>0.004754</td>\n",
       "      <td>0.002122</td>\n",
       "      <td>0.002270</td>\n",
       "      <td>0.008021</td>\n",
       "      <td>0.009104</td>\n",
       "      <td>0.030262</td>\n",
       "      <td>0.027361</td>\n",
       "      <td>0.030346</td>\n",
       "      <td>0.002584</td>\n",
       "      <td>0.000952</td>\n",
       "      <td>0.000938</td>\n",
       "      <td>0.000708</td>\n",
       "    </tr>\n",
       "    <tr>\n",
       "      <th>2</th>\n",
       "      <td>0.003908</td>\n",
       "      <td>0.003741</td>\n",
       "      <td>0.005169</td>\n",
       "      <td>0.001199</td>\n",
       "      <td>0.000600</td>\n",
       "      <td>0.001459</td>\n",
       "      <td>0.001401</td>\n",
       "      <td>0.028817</td>\n",
       "      <td>0.028614</td>\n",
       "      <td>0.035242</td>\n",
       "      <td>0.001829</td>\n",
       "      <td>0.001666</td>\n",
       "      <td>0.000844</td>\n",
       "      <td>0.000684</td>\n",
       "    </tr>\n",
       "    <tr>\n",
       "      <th>3</th>\n",
       "      <td>0.003789</td>\n",
       "      <td>0.003336</td>\n",
       "      <td>0.005221</td>\n",
       "      <td>0.002271</td>\n",
       "      <td>0.001990</td>\n",
       "      <td>0.010282</td>\n",
       "      <td>0.008503</td>\n",
       "      <td>0.028749</td>\n",
       "      <td>0.027961</td>\n",
       "      <td>0.027604</td>\n",
       "      <td>0.002975</td>\n",
       "      <td>0.000980</td>\n",
       "      <td>0.000805</td>\n",
       "      <td>0.000699</td>\n",
       "    </tr>\n",
       "    <tr>\n",
       "      <th>4</th>\n",
       "      <td>0.004390</td>\n",
       "      <td>0.003673</td>\n",
       "      <td>0.004703</td>\n",
       "      <td>0.001433</td>\n",
       "      <td>0.002650</td>\n",
       "      <td>0.000917</td>\n",
       "      <td>0.007503</td>\n",
       "      <td>0.031019</td>\n",
       "      <td>0.028916</td>\n",
       "      <td>0.027448</td>\n",
       "      <td>0.001621</td>\n",
       "      <td>0.001014</td>\n",
       "      <td>0.000897</td>\n",
       "      <td>0.000636</td>\n",
       "    </tr>\n",
       "    <tr>\n",
       "      <th>...</th>\n",
       "      <td>...</td>\n",
       "      <td>...</td>\n",
       "      <td>...</td>\n",
       "      <td>...</td>\n",
       "      <td>...</td>\n",
       "      <td>...</td>\n",
       "      <td>...</td>\n",
       "      <td>...</td>\n",
       "      <td>...</td>\n",
       "      <td>...</td>\n",
       "      <td>...</td>\n",
       "      <td>...</td>\n",
       "      <td>...</td>\n",
       "      <td>...</td>\n",
       "    </tr>\n",
       "    <tr>\n",
       "      <th>108379</th>\n",
       "      <td>0.003950</td>\n",
       "      <td>0.003286</td>\n",
       "      <td>0.004932</td>\n",
       "      <td>0.001226</td>\n",
       "      <td>0.004080</td>\n",
       "      <td>0.004615</td>\n",
       "      <td>0.010304</td>\n",
       "      <td>0.029874</td>\n",
       "      <td>0.025146</td>\n",
       "      <td>0.035927</td>\n",
       "      <td>0.001265</td>\n",
       "      <td>0.000958</td>\n",
       "      <td>0.000821</td>\n",
       "      <td>0.000686</td>\n",
       "    </tr>\n",
       "    <tr>\n",
       "      <th>108380</th>\n",
       "      <td>0.004799</td>\n",
       "      <td>0.002913</td>\n",
       "      <td>0.005116</td>\n",
       "      <td>0.002417</td>\n",
       "      <td>0.004130</td>\n",
       "      <td>0.002102</td>\n",
       "      <td>0.018808</td>\n",
       "      <td>0.028255</td>\n",
       "      <td>0.028297</td>\n",
       "      <td>0.027435</td>\n",
       "      <td>0.004212</td>\n",
       "      <td>0.000833</td>\n",
       "      <td>0.000902</td>\n",
       "      <td>0.000560</td>\n",
       "    </tr>\n",
       "    <tr>\n",
       "      <th>108381</th>\n",
       "      <td>0.004420</td>\n",
       "      <td>0.003231</td>\n",
       "      <td>0.004731</td>\n",
       "      <td>0.004505</td>\n",
       "      <td>0.001850</td>\n",
       "      <td>0.029160</td>\n",
       "      <td>0.017907</td>\n",
       "      <td>0.031494</td>\n",
       "      <td>0.027936</td>\n",
       "      <td>0.027703</td>\n",
       "      <td>0.001824</td>\n",
       "      <td>0.000822</td>\n",
       "      <td>0.000889</td>\n",
       "      <td>0.000646</td>\n",
       "    </tr>\n",
       "    <tr>\n",
       "      <th>108382</th>\n",
       "      <td>0.003315</td>\n",
       "      <td>0.003303</td>\n",
       "      <td>0.008703</td>\n",
       "      <td>0.005824</td>\n",
       "      <td>0.004240</td>\n",
       "      <td>0.012474</td>\n",
       "      <td>0.057223</td>\n",
       "      <td>0.000000</td>\n",
       "      <td>0.029288</td>\n",
       "      <td>0.033419</td>\n",
       "      <td>0.001308</td>\n",
       "      <td>0.000896</td>\n",
       "      <td>0.000888</td>\n",
       "      <td>0.000736</td>\n",
       "    </tr>\n",
       "    <tr>\n",
       "      <th>108383</th>\n",
       "      <td>0.004292</td>\n",
       "      <td>0.003476</td>\n",
       "      <td>0.005223</td>\n",
       "      <td>0.003812</td>\n",
       "      <td>0.003440</td>\n",
       "      <td>0.019524</td>\n",
       "      <td>0.026411</td>\n",
       "      <td>0.028410</td>\n",
       "      <td>0.027536</td>\n",
       "      <td>0.027905</td>\n",
       "      <td>0.003225</td>\n",
       "      <td>0.000779</td>\n",
       "      <td>0.000838</td>\n",
       "      <td>0.000642</td>\n",
       "    </tr>\n",
       "  </tbody>\n",
       "</table>\n",
       "<p>108384 rows × 14 columns</p>\n",
       "</div>"
      ],
      "text/plain": [
       "              0         1         2         3         4         5         6   \\\n",
       "0       0.004137  0.002725  0.005143  0.000824  0.009201  0.003130  0.018207   \n",
       "1       0.004410  0.003167  0.004754  0.002122  0.002270  0.008021  0.009104   \n",
       "2       0.003908  0.003741  0.005169  0.001199  0.000600  0.001459  0.001401   \n",
       "3       0.003789  0.003336  0.005221  0.002271  0.001990  0.010282  0.008503   \n",
       "4       0.004390  0.003673  0.004703  0.001433  0.002650  0.000917  0.007503   \n",
       "...          ...       ...       ...       ...       ...       ...       ...   \n",
       "108379  0.003950  0.003286  0.004932  0.001226  0.004080  0.004615  0.010304   \n",
       "108380  0.004799  0.002913  0.005116  0.002417  0.004130  0.002102  0.018808   \n",
       "108381  0.004420  0.003231  0.004731  0.004505  0.001850  0.029160  0.017907   \n",
       "108382  0.003315  0.003303  0.008703  0.005824  0.004240  0.012474  0.057223   \n",
       "108383  0.004292  0.003476  0.005223  0.003812  0.003440  0.019524  0.026411   \n",
       "\n",
       "              7         8         9         10        11        12        13  \n",
       "0       0.030466  0.029003  0.039180  0.003354  0.000877  0.000904  0.000695  \n",
       "1       0.030262  0.027361  0.030346  0.002584  0.000952  0.000938  0.000708  \n",
       "2       0.028817  0.028614  0.035242  0.001829  0.001666  0.000844  0.000684  \n",
       "3       0.028749  0.027961  0.027604  0.002975  0.000980  0.000805  0.000699  \n",
       "4       0.031019  0.028916  0.027448  0.001621  0.001014  0.000897  0.000636  \n",
       "...          ...       ...       ...       ...       ...       ...       ...  \n",
       "108379  0.029874  0.025146  0.035927  0.001265  0.000958  0.000821  0.000686  \n",
       "108380  0.028255  0.028297  0.027435  0.004212  0.000833  0.000902  0.000560  \n",
       "108381  0.031494  0.027936  0.027703  0.001824  0.000822  0.000889  0.000646  \n",
       "108382  0.000000  0.029288  0.033419  0.001308  0.000896  0.000888  0.000736  \n",
       "108383  0.028410  0.027536  0.027905  0.003225  0.000779  0.000838  0.000642  \n",
       "\n",
       "[108384 rows x 14 columns]"
      ]
     },
     "execution_count": 13,
     "metadata": {},
     "output_type": "execute_result"
    }
   ],
   "source": [
    "x_train_consult, x_test_consult, y_train_consult, y_test_consult = train_test_split(x, y_consult, test_size=0.33)\n",
    "scaler = MinMaxScaler()\n",
    "x_train_scaled_consult = pd.DataFrame(scaler.fit_transform(x_train_consult))\n",
    "x_train_scaled_consult"
   ]
  },
  {
   "cell_type": "markdown",
   "id": "b4192ae8",
   "metadata": {},
   "source": [
    "# Consulting Predictions"
   ]
  },
  {
   "cell_type": "markdown",
   "id": "2f8b414e",
   "metadata": {},
   "source": [
    "### Model 1: Using Neural Networks"
   ]
  },
  {
   "cell_type": "code",
   "execution_count": 14,
   "id": "333dd025",
   "metadata": {},
   "outputs": [],
   "source": [
    "from tensorflow.keras.models import Sequential\n",
    "from tensorflow.keras.layers import Dense\n",
    "from tensorflow.keras.optimizers import Adam"
   ]
  },
  {
   "cell_type": "code",
   "execution_count": 15,
   "id": "04ae688b",
   "metadata": {},
   "outputs": [
    {
     "name": "stdout",
     "output_type": "stream",
     "text": [
      "Model: \"sequential\"\n",
      "_________________________________________________________________\n",
      " Layer (type)                Output Shape              Param #   \n",
      "=================================================================\n",
      " layer1 (Dense)              (None, 350)               5250      \n",
      "                                                                 \n",
      " layer2 (Dense)              (None, 256)               89856     \n",
      "                                                                 \n",
      " layer3 (Dense)              (None, 125)               32125     \n",
      "                                                                 \n",
      " output_layer (Dense)        (None, 1)                 126       \n",
      "                                                                 \n",
      "=================================================================\n",
      "Total params: 127,357\n",
      "Trainable params: 127,357\n",
      "Non-trainable params: 0\n",
      "_________________________________________________________________\n"
     ]
    }
   ],
   "source": [
    "model1 = Sequential([tf.keras.Input(shape=x_train_scaled_consult.shape[1]),\n",
    "                    Dense(units=350, kernel_initializer='normal', activation='relu', name = 'layer1'),\n",
    "                    Dense(units=256, kernel_initializer='normal', activation='relu', name = 'layer2'),\n",
    "                    Dense(units=125, kernel_initializer='normal', activation='relu', name = 'layer3'),\n",
    "                    Dense(units=1, kernel_initializer='normal', activation = 'linear', name = 'output_layer')])\n",
    "model1.summary()"
   ]
  },
  {
   "cell_type": "code",
   "execution_count": 16,
   "id": "cffd7d8f",
   "metadata": {},
   "outputs": [
    {
     "name": "stdout",
     "output_type": "stream",
     "text": [
      "Epoch 1/20\n",
      "2168/2168 [==============================] - 9s 3ms/step - loss: 2277.5964\n",
      "Epoch 2/20\n",
      "2168/2168 [==============================] - 6s 3ms/step - loss: 483.3372\n",
      "Epoch 3/20\n",
      "2168/2168 [==============================] - 7s 3ms/step - loss: 481.1633\n",
      "Epoch 4/20\n",
      "2168/2168 [==============================] - 7s 3ms/step - loss: 463.0514\n",
      "Epoch 5/20\n",
      "2168/2168 [==============================] - 6s 3ms/step - loss: 435.4330\n",
      "Epoch 6/20\n",
      "2168/2168 [==============================] - 7s 3ms/step - loss: 441.1188\n",
      "Epoch 7/20\n",
      "2168/2168 [==============================] - 6s 3ms/step - loss: 419.8419\n",
      "Epoch 8/20\n",
      "2168/2168 [==============================] - 7s 3ms/step - loss: 423.1755\n",
      "Epoch 9/20\n",
      "2168/2168 [==============================] - 6s 3ms/step - loss: 419.7386\n",
      "Epoch 10/20\n",
      "2168/2168 [==============================] - 8s 3ms/step - loss: 417.3454\n",
      "Epoch 11/20\n",
      "2168/2168 [==============================] - 7s 3ms/step - loss: 413.0535\n",
      "Epoch 12/20\n",
      "2168/2168 [==============================] - 6s 3ms/step - loss: 417.2026\n",
      "Epoch 13/20\n",
      "2168/2168 [==============================] - 7s 3ms/step - loss: 414.2636\n",
      "Epoch 14/20\n",
      "2168/2168 [==============================] - 7s 3ms/step - loss: 409.8645\n",
      "Epoch 15/20\n",
      "2168/2168 [==============================] - 7s 3ms/step - loss: 408.6016\n",
      "Epoch 16/20\n",
      "2168/2168 [==============================] - 6s 3ms/step - loss: 405.8789\n",
      "Epoch 17/20\n",
      "2168/2168 [==============================] - 6s 3ms/step - loss: 404.1988\n",
      "Epoch 18/20\n",
      "2168/2168 [==============================] - 7s 3ms/step - loss: 402.1692\n",
      "Epoch 19/20\n",
      "2168/2168 [==============================] - 6s 3ms/step - loss: 408.4352\n",
      "Epoch 20/20\n",
      "2168/2168 [==============================] - 7s 3ms/step - loss: 401.2214\n"
     ]
    }
   ],
   "source": [
    "model1.compile(optimizer=Adam(0.01), loss=tf.keras.losses.MeanSquaredError())\n",
    "history1 = model1.fit(x_train_scaled_consult, y_train_consult, epochs = 20, batch_size = 50)"
   ]
  },
  {
   "cell_type": "code",
   "execution_count": 17,
   "id": "bcce2886",
   "metadata": {},
   "outputs": [
    {
     "data": {
      "text/plain": [
       "array([2277.59643555,  483.33721924,  481.16333008,  463.05142212,\n",
       "        435.43295288,  441.11883545,  419.84191895,  423.17547607,\n",
       "        419.73864746,  417.34536743,  413.0534668 ,  417.20263672,\n",
       "        414.26361084,  409.86447144,  408.60162354,  405.87887573,\n",
       "        404.19876099,  402.16921997,  408.43515015,  401.22143555])"
      ]
     },
     "execution_count": 17,
     "metadata": {},
     "output_type": "execute_result"
    }
   ],
   "source": [
    "loss1 = (np.array(history1.history.get('loss')))\n",
    "loss1"
   ]
  },
  {
   "cell_type": "code",
   "execution_count": 18,
   "id": "4f8d7dca",
   "metadata": {},
   "outputs": [
    {
     "data": {
      "image/png": "[encoded data removed]",
      "text/plain": [
       "<Figure size 576x432 with 1 Axes>"
      ]
     },
     "metadata": {
      "needs_background": "light"
     },
     "output_type": "display_data"
    }
   ],
   "source": [
    "plt.figure(figsize=(8,6))\n",
    "plt.plot(loss1, color = 'red')\n",
    "plt.title('Loss vs Iteration for Consultancy Model')\n",
    "plt.xlabel('Iterations')\n",
    "plt.ylabel('Loss Value')\n",
    "plt.show()"
   ]
  },
  {
   "cell_type": "code",
   "execution_count": 19,
   "id": "eebc7088",
   "metadata": {},
   "outputs": [
    {
     "data": {
      "text/plain": [
       "array([[0.00398129, 0.00323479, 0.00438416, ..., 0.0009274 , 0.00070946,\n",
       "        0.00090625],\n",
       "       [0.00407888, 0.00316004, 0.00476535, ..., 0.00100743, 0.00066149,\n",
       "        0.00082832],\n",
       "       [0.00389665, 0.00400711, 0.00493753, ..., 0.00086237, 0.00074643,\n",
       "        0.00076237],\n",
       "       ...,\n",
       "       [0.00371242, 0.0033444 , 0.00445383, ..., 0.00084036, 0.0006545 ,\n",
       "        0.00075638],\n",
       "       [0.00435771, 0.003749  , 0.00484597, ..., 0.00091739, 0.00077141,\n",
       "        0.00089826],\n",
       "       [0.00416452, 0.00295874, 0.00411843, ..., 0.00067829, 0.00065849,\n",
       "        0.00075638]])"
      ]
     },
     "execution_count": 19,
     "metadata": {},
     "output_type": "execute_result"
    }
   ],
   "source": [
    "x_test_scaled_consult = scaler.transform(x_test_consult)\n",
    "x_test_scaled_consult"
   ]
  },
  {
   "cell_type": "code",
   "execution_count": 20,
   "id": "78fa808d",
   "metadata": {},
   "outputs": [
    {
     "name": "stdout",
     "output_type": "stream",
     "text": [
      "1669/1669 [==============================] - 4s 2ms/step\n"
     ]
    },
    {
     "data": {
      "text/plain": [
       "array([[513.1162],\n",
       "       [511.8773],\n",
       "       [515.0773],\n",
       "       ...,\n",
       "       [514.0884],\n",
       "       [511.8441],\n",
       "       [515.5085]], dtype=float32)"
      ]
     },
     "execution_count": 20,
     "metadata": {},
     "output_type": "execute_result"
    }
   ],
   "source": [
    "predict_consult = model1.predict(x_test_scaled_consult)\n",
    "predict_consult"
   ]
  },
  {
   "cell_type": "code",
   "execution_count": 21,
   "id": "8c484396",
   "metadata": {},
   "outputs": [
    {
     "data": {
      "text/plain": [
       "19.693773683412747"
      ]
     },
     "execution_count": 21,
     "metadata": {},
     "output_type": "execute_result"
    }
   ],
   "source": [
    "mse = mean_squared_error(y_test_consult, predict_consult)\n",
    "rmse = (mse)**(1/2)\n",
    "rmse"
   ]
  },
  {
   "cell_type": "code",
   "execution_count": 22,
   "id": "d85c1d5f",
   "metadata": {},
   "outputs": [
    {
     "data": {
      "text/plain": [
       "-0.000841237504607184"
      ]
     },
     "execution_count": 22,
     "metadata": {},
     "output_type": "execute_result"
    }
   ],
   "source": [
    "r2_score(y_test_consult, predict_consult)"
   ]
  },
  {
   "cell_type": "markdown",
   "id": "a4f20a92",
   "metadata": {},
   "source": [
    "### Model 2 : Using Random Forest Regressor"
   ]
  },
  {
   "cell_type": "code",
   "execution_count": 23,
   "id": "351fb3ba",
   "metadata": {},
   "outputs": [
    {
     "data": {
      "text/plain": [
       "RandomForestRegressor()"
      ]
     },
     "execution_count": 23,
     "metadata": {},
     "output_type": "execute_result"
    }
   ],
   "source": [
    "tree = RandomForestRegressor()\n",
    "tree.fit(x_train_scaled_consult, y_train_consult)"
   ]
  },
  {
   "cell_type": "code",
   "execution_count": 24,
   "id": "15c01a72",
   "metadata": {},
   "outputs": [
    {
     "data": {
      "text/plain": [
       "array([518.42, 518.58, 514.06, ..., 504.35, 515.56, 510.93])"
      ]
     },
     "execution_count": 24,
     "metadata": {},
     "output_type": "execute_result"
    }
   ],
   "source": [
    "predict_consult = tree.predict(x_test_scaled_consult)\n",
    "predict_consult"
   ]
  },
  {
   "cell_type": "code",
   "execution_count": 25,
   "id": "e30dd98e",
   "metadata": {},
   "outputs": [
    {
     "data": {
      "text/plain": [
       "12.480825759288626"
      ]
     },
     "execution_count": 25,
     "metadata": {},
     "output_type": "execute_result"
    }
   ],
   "source": [
    "mse1 = mean_squared_error(y_test_consult, predict_consult)\n",
    "rmse1 = (mse1)**(1/2)\n",
    "rmse1"
   ]
  },
  {
   "cell_type": "code",
   "execution_count": 63,
   "id": "5578ffee",
   "metadata": {},
   "outputs": [
    {
     "data": {
      "text/plain": [
       "0.5980297184664096"
      ]
     },
     "execution_count": 63,
     "metadata": {},
     "output_type": "execute_result"
    }
   ],
   "source": [
    "score1 = r2_score(y_test_consult, predict_consult)\n",
    "score1"
   ]
  },
  {
   "cell_type": "markdown",
   "id": "cd295a31",
   "metadata": {},
   "source": [
    "# Automobile Predictions"
   ]
  },
  {
   "cell_type": "code",
   "execution_count": 27,
   "id": "76190e86",
   "metadata": {},
   "outputs": [
    {
     "data": {
      "text/html": [
       "<div>\n",
       "<style scoped>\n",
       "    .dataframe tbody tr th:only-of-type {\n",
       "        vertical-align: middle;\n",
       "    }\n",
       "\n",
       "    .dataframe tbody tr th {\n",
       "        vertical-align: top;\n",
       "    }\n",
       "\n",
       "    .dataframe thead th {\n",
       "        text-align: right;\n",
       "    }\n",
       "</style>\n",
       "<table border=\"1\" class=\"dataframe\">\n",
       "  <thead>\n",
       "    <tr style=\"text-align: right;\">\n",
       "      <th></th>\n",
       "      <th>0</th>\n",
       "      <th>1</th>\n",
       "      <th>2</th>\n",
       "      <th>3</th>\n",
       "      <th>4</th>\n",
       "      <th>5</th>\n",
       "      <th>6</th>\n",
       "      <th>7</th>\n",
       "      <th>8</th>\n",
       "      <th>9</th>\n",
       "      <th>10</th>\n",
       "      <th>11</th>\n",
       "      <th>12</th>\n",
       "      <th>13</th>\n",
       "    </tr>\n",
       "  </thead>\n",
       "  <tbody>\n",
       "    <tr>\n",
       "      <th>0</th>\n",
       "      <td>0.004195</td>\n",
       "      <td>0.004300</td>\n",
       "      <td>0.005778</td>\n",
       "      <td>0.001871</td>\n",
       "      <td>0.014781</td>\n",
       "      <td>0.006195</td>\n",
       "      <td>0.052321</td>\n",
       "      <td>0.030512</td>\n",
       "      <td>0.030658</td>\n",
       "      <td>0.033505</td>\n",
       "      <td>0.004651</td>\n",
       "      <td>0.000746</td>\n",
       "      <td>0.001025</td>\n",
       "      <td>0.000859</td>\n",
       "    </tr>\n",
       "    <tr>\n",
       "      <th>1</th>\n",
       "      <td>0.003749</td>\n",
       "      <td>0.003622</td>\n",
       "      <td>0.004792</td>\n",
       "      <td>0.002428</td>\n",
       "      <td>0.002780</td>\n",
       "      <td>0.005951</td>\n",
       "      <td>0.012605</td>\n",
       "      <td>0.035569</td>\n",
       "      <td>0.027641</td>\n",
       "      <td>0.030917</td>\n",
       "      <td>0.005106</td>\n",
       "      <td>0.000960</td>\n",
       "      <td>0.000843</td>\n",
       "      <td>0.000853</td>\n",
       "    </tr>\n",
       "    <tr>\n",
       "      <th>2</th>\n",
       "      <td>0.004000</td>\n",
       "      <td>0.003382</td>\n",
       "      <td>0.004528</td>\n",
       "      <td>0.001960</td>\n",
       "      <td>0.013411</td>\n",
       "      <td>0.007110</td>\n",
       "      <td>0.049420</td>\n",
       "      <td>0.036592</td>\n",
       "      <td>0.029761</td>\n",
       "      <td>0.030698</td>\n",
       "      <td>0.000650</td>\n",
       "      <td>0.000667</td>\n",
       "      <td>0.000961</td>\n",
       "      <td>0.000755</td>\n",
       "    </tr>\n",
       "    <tr>\n",
       "      <th>3</th>\n",
       "      <td>0.003558</td>\n",
       "      <td>0.003697</td>\n",
       "      <td>0.005023</td>\n",
       "      <td>0.001913</td>\n",
       "      <td>0.003090</td>\n",
       "      <td>0.006833</td>\n",
       "      <td>0.011104</td>\n",
       "      <td>0.034835</td>\n",
       "      <td>0.025688</td>\n",
       "      <td>0.038343</td>\n",
       "      <td>0.001540</td>\n",
       "      <td>0.000994</td>\n",
       "      <td>0.000786</td>\n",
       "      <td>0.000914</td>\n",
       "    </tr>\n",
       "    <tr>\n",
       "      <th>4</th>\n",
       "      <td>0.003907</td>\n",
       "      <td>0.003998</td>\n",
       "      <td>0.004962</td>\n",
       "      <td>0.000896</td>\n",
       "      <td>0.004440</td>\n",
       "      <td>0.001891</td>\n",
       "      <td>0.009104</td>\n",
       "      <td>0.034170</td>\n",
       "      <td>0.024747</td>\n",
       "      <td>0.035745</td>\n",
       "      <td>0.001221</td>\n",
       "      <td>0.001093</td>\n",
       "      <td>0.000872</td>\n",
       "      <td>0.000848</td>\n",
       "    </tr>\n",
       "    <tr>\n",
       "      <th>...</th>\n",
       "      <td>...</td>\n",
       "      <td>...</td>\n",
       "      <td>...</td>\n",
       "      <td>...</td>\n",
       "      <td>...</td>\n",
       "      <td>...</td>\n",
       "      <td>...</td>\n",
       "      <td>...</td>\n",
       "      <td>...</td>\n",
       "      <td>...</td>\n",
       "      <td>...</td>\n",
       "      <td>...</td>\n",
       "      <td>...</td>\n",
       "      <td>...</td>\n",
       "    </tr>\n",
       "    <tr>\n",
       "      <th>108379</th>\n",
       "      <td>0.004287</td>\n",
       "      <td>0.003907</td>\n",
       "      <td>0.004998</td>\n",
       "      <td>0.001611</td>\n",
       "      <td>0.006391</td>\n",
       "      <td>0.003113</td>\n",
       "      <td>0.019808</td>\n",
       "      <td>0.034951</td>\n",
       "      <td>0.030013</td>\n",
       "      <td>0.031718</td>\n",
       "      <td>0.003628</td>\n",
       "      <td>0.000892</td>\n",
       "      <td>0.000936</td>\n",
       "      <td>0.000929</td>\n",
       "    </tr>\n",
       "    <tr>\n",
       "      <th>108380</th>\n",
       "      <td>0.004025</td>\n",
       "      <td>0.003693</td>\n",
       "      <td>0.004764</td>\n",
       "      <td>0.000887</td>\n",
       "      <td>0.020562</td>\n",
       "      <td>0.002326</td>\n",
       "      <td>0.042617</td>\n",
       "      <td>0.035579</td>\n",
       "      <td>0.024720</td>\n",
       "      <td>0.027253</td>\n",
       "      <td>0.002114</td>\n",
       "      <td>0.000732</td>\n",
       "      <td>0.000822</td>\n",
       "      <td>0.000873</td>\n",
       "    </tr>\n",
       "    <tr>\n",
       "      <th>108381</th>\n",
       "      <td>0.004408</td>\n",
       "      <td>0.003098</td>\n",
       "      <td>0.004849</td>\n",
       "      <td>0.000931</td>\n",
       "      <td>0.033583</td>\n",
       "      <td>0.002257</td>\n",
       "      <td>0.071629</td>\n",
       "      <td>0.034816</td>\n",
       "      <td>0.028839</td>\n",
       "      <td>0.040335</td>\n",
       "      <td>0.003006</td>\n",
       "      <td>0.000658</td>\n",
       "      <td>0.000885</td>\n",
       "      <td>0.000796</td>\n",
       "    </tr>\n",
       "    <tr>\n",
       "      <th>108382</th>\n",
       "      <td>0.004253</td>\n",
       "      <td>0.003731</td>\n",
       "      <td>0.004670</td>\n",
       "      <td>0.004844</td>\n",
       "      <td>0.002270</td>\n",
       "      <td>0.026343</td>\n",
       "      <td>0.023810</td>\n",
       "      <td>0.037248</td>\n",
       "      <td>0.031254</td>\n",
       "      <td>0.029196</td>\n",
       "      <td>0.004002</td>\n",
       "      <td>0.000803</td>\n",
       "      <td>0.000905</td>\n",
       "      <td>0.000777</td>\n",
       "    </tr>\n",
       "    <tr>\n",
       "      <th>108383</th>\n",
       "      <td>0.003534</td>\n",
       "      <td>0.003865</td>\n",
       "      <td>0.005412</td>\n",
       "      <td>0.002070</td>\n",
       "      <td>0.011011</td>\n",
       "      <td>0.013510</td>\n",
       "      <td>0.042717</td>\n",
       "      <td>0.032298</td>\n",
       "      <td>0.024925</td>\n",
       "      <td>0.031400</td>\n",
       "      <td>0.001021</td>\n",
       "      <td>0.000750</td>\n",
       "      <td>0.000740</td>\n",
       "      <td>0.000806</td>\n",
       "    </tr>\n",
       "  </tbody>\n",
       "</table>\n",
       "<p>108384 rows × 14 columns</p>\n",
       "</div>"
      ],
      "text/plain": [
       "              0         1         2         3         4         5         6   \\\n",
       "0       0.004195  0.004300  0.005778  0.001871  0.014781  0.006195  0.052321   \n",
       "1       0.003749  0.003622  0.004792  0.002428  0.002780  0.005951  0.012605   \n",
       "2       0.004000  0.003382  0.004528  0.001960  0.013411  0.007110  0.049420   \n",
       "3       0.003558  0.003697  0.005023  0.001913  0.003090  0.006833  0.011104   \n",
       "4       0.003907  0.003998  0.004962  0.000896  0.004440  0.001891  0.009104   \n",
       "...          ...       ...       ...       ...       ...       ...       ...   \n",
       "108379  0.004287  0.003907  0.004998  0.001611  0.006391  0.003113  0.019808   \n",
       "108380  0.004025  0.003693  0.004764  0.000887  0.020562  0.002326  0.042617   \n",
       "108381  0.004408  0.003098  0.004849  0.000931  0.033583  0.002257  0.071629   \n",
       "108382  0.004253  0.003731  0.004670  0.004844  0.002270  0.026343  0.023810   \n",
       "108383  0.003534  0.003865  0.005412  0.002070  0.011011  0.013510  0.042717   \n",
       "\n",
       "              7         8         9         10        11        12        13  \n",
       "0       0.030512  0.030658  0.033505  0.004651  0.000746  0.001025  0.000859  \n",
       "1       0.035569  0.027641  0.030917  0.005106  0.000960  0.000843  0.000853  \n",
       "2       0.036592  0.029761  0.030698  0.000650  0.000667  0.000961  0.000755  \n",
       "3       0.034835  0.025688  0.038343  0.001540  0.000994  0.000786  0.000914  \n",
       "4       0.034170  0.024747  0.035745  0.001221  0.001093  0.000872  0.000848  \n",
       "...          ...       ...       ...       ...       ...       ...       ...  \n",
       "108379  0.034951  0.030013  0.031718  0.003628  0.000892  0.000936  0.000929  \n",
       "108380  0.035579  0.024720  0.027253  0.002114  0.000732  0.000822  0.000873  \n",
       "108381  0.034816  0.028839  0.040335  0.003006  0.000658  0.000885  0.000796  \n",
       "108382  0.037248  0.031254  0.029196  0.004002  0.000803  0.000905  0.000777  \n",
       "108383  0.032298  0.024925  0.031400  0.001021  0.000750  0.000740  0.000806  \n",
       "\n",
       "[108384 rows x 14 columns]"
      ]
     },
     "execution_count": 27,
     "metadata": {},
     "output_type": "execute_result"
    }
   ],
   "source": [
    "x_train_auto, x_test_auto, y_train_auto, y_test_auto = train_test_split(x, y_auto, test_size=0.33)\n",
    "scaler = MinMaxScaler()\n",
    "x_train_scaled_auto = pd.DataFrame(scaler.fit_transform(x_train_auto))\n",
    "x_train_scaled_auto"
   ]
  },
  {
   "cell_type": "markdown",
   "id": "070478ce",
   "metadata": {},
   "source": [
    "### Model 3 : Using Neural Networks"
   ]
  },
  {
   "cell_type": "code",
   "execution_count": 28,
   "id": "68eb525c",
   "metadata": {},
   "outputs": [
    {
     "name": "stdout",
     "output_type": "stream",
     "text": [
      "Model: \"sequential_1\"\n",
      "_________________________________________________________________\n",
      " Layer (type)                Output Shape              Param #   \n",
      "=================================================================\n",
      " layer1 (Dense)              (None, 350)               5250      \n",
      "                                                                 \n",
      " layer2 (Dense)              (None, 256)               89856     \n",
      "                                                                 \n",
      " layer3 (Dense)              (None, 125)               32125     \n",
      "                                                                 \n",
      " output_layer (Dense)        (None, 1)                 126       \n",
      "                                                                 \n",
      "=================================================================\n",
      "Total params: 127,357\n",
      "Trainable params: 127,357\n",
      "Non-trainable params: 0\n",
      "_________________________________________________________________\n"
     ]
    }
   ],
   "source": [
    "model3 = Sequential([tf.keras.Input(shape=x_train_scaled_auto.shape[1]),\n",
    "                    Dense(units=350, kernel_initializer='normal', activation='relu', name = 'layer1'),\n",
    "                    Dense(units=256, kernel_initializer='normal', activation='relu', name = 'layer2'),\n",
    "                    Dense(units=125, kernel_initializer='normal', activation='relu', name = 'layer3'),\n",
    "                    Dense(units=1, kernel_initializer='normal', activation = 'linear', name = 'output_layer')])\n",
    "model3.summary()"
   ]
  },
  {
   "cell_type": "code",
   "execution_count": 29,
   "id": "601dbb45",
   "metadata": {},
   "outputs": [
    {
     "name": "stdout",
     "output_type": "stream",
     "text": [
      "Epoch 1/20\n",
      "2168/2168 [==============================] - 8s 3ms/step - loss: 1261.3003\n",
      "Epoch 2/20\n",
      "2168/2168 [==============================] - 6s 3ms/step - loss: 245.3060\n",
      "Epoch 3/20\n",
      "2168/2168 [==============================] - 7s 3ms/step - loss: 237.3998\n",
      "Epoch 4/20\n",
      "2168/2168 [==============================] - 6s 3ms/step - loss: 222.5675\n",
      "Epoch 5/20\n",
      "2168/2168 [==============================] - 7s 3ms/step - loss: 222.4268\n",
      "Epoch 6/20\n",
      "2168/2168 [==============================] - 7s 3ms/step - loss: 215.8394\n",
      "Epoch 7/20\n",
      "2168/2168 [==============================] - 6s 3ms/step - loss: 212.3341\n",
      "Epoch 8/20\n",
      "2168/2168 [==============================] - 7s 3ms/step - loss: 208.2334\n",
      "Epoch 9/20\n",
      "2168/2168 [==============================] - 6s 3ms/step - loss: 206.7908\n",
      "Epoch 10/20\n",
      "2168/2168 [==============================] - 7s 3ms/step - loss: 207.5006\n",
      "Epoch 11/20\n",
      "2168/2168 [==============================] - 7s 3ms/step - loss: 205.8699\n",
      "Epoch 12/20\n",
      "2168/2168 [==============================] - 6s 3ms/step - loss: 203.9478\n",
      "Epoch 13/20\n",
      "2168/2168 [==============================] - 7s 3ms/step - loss: 201.5888\n",
      "Epoch 14/20\n",
      "2168/2168 [==============================] - 6s 3ms/step - loss: 201.3137\n",
      "Epoch 15/20\n",
      "2168/2168 [==============================] - 7s 3ms/step - loss: 199.4191\n",
      "Epoch 16/20\n",
      "2168/2168 [==============================] - 7s 3ms/step - loss: 198.1132\n",
      "Epoch 17/20\n",
      "2168/2168 [==============================] - 6s 3ms/step - loss: 202.3948\n",
      "Epoch 18/20\n",
      "2168/2168 [==============================] - 7s 3ms/step - loss: 198.0812\n",
      "Epoch 19/20\n",
      "2168/2168 [==============================] - 6s 3ms/step - loss: 198.9115\n",
      "Epoch 20/20\n",
      "2168/2168 [==============================] - 7s 3ms/step - loss: 198.6087\n"
     ]
    }
   ],
   "source": [
    "model3.compile(optimizer=Adam(0.01), loss=tf.keras.losses.MeanSquaredError())\n",
    "history3 = model3.fit(x_train_scaled_auto, y_train_auto, epochs = 20, batch_size = 50)"
   ]
  },
  {
   "cell_type": "code",
   "execution_count": 30,
   "id": "1d633254",
   "metadata": {},
   "outputs": [
    {
     "data": {
      "text/plain": [
       "array([1261.30029297,  245.3059845 ,  237.39984131,  222.56752014,\n",
       "        222.42683411,  215.83938599,  212.3341217 ,  208.23344421,\n",
       "        206.79083252,  207.50056458,  205.86988831,  203.94781494,\n",
       "        201.58882141,  201.31365967,  199.41912842,  198.1131897 ,\n",
       "        202.39476013,  198.08122253,  198.91148376,  198.60865784])"
      ]
     },
     "execution_count": 30,
     "metadata": {},
     "output_type": "execute_result"
    }
   ],
   "source": [
    "loss3 = (np.array(history3.history.get('loss')))\n",
    "loss3"
   ]
  },
  {
   "cell_type": "code",
   "execution_count": 31,
   "id": "19e1847d",
   "metadata": {},
   "outputs": [
    {
     "data": {
      "image/png": "[encoded data removed]",
      "text/plain": [
       "<Figure size 576x432 with 1 Axes>"
      ]
     },
     "metadata": {
      "needs_background": "light"
     },
     "output_type": "display_data"
    }
   ],
   "source": [
    "plt.figure(figsize=(8,6))\n",
    "plt.plot(loss3, color = 'red')\n",
    "plt.title('Loss vs Iteration for Automobile Model')\n",
    "plt.xlabel('Iterations')\n",
    "plt.ylabel('Loss Value')\n",
    "plt.show()"
   ]
  },
  {
   "cell_type": "code",
   "execution_count": 32,
   "id": "4fc1d598",
   "metadata": {},
   "outputs": [
    {
     "data": {
      "text/plain": [
       "array([[0.00440873, 0.0032607 , 0.00527697, ..., 0.00091639, 0.00085619,\n",
       "        0.00080634],\n",
       "       [0.00382216, 0.00378687, 0.00522025, ..., 0.00106245, 0.00081723,\n",
       "        0.00081033],\n",
       "       [0.00323061, 0.00367326, 0.00324798, ..., 0.0004602 , 0.00093711,\n",
       "        0.00085629],\n",
       "       ...,\n",
       "       [0.00387793, 0.00390845, 0.00524314, ..., 0.0011795 , 0.00080724,\n",
       "        0.00086928],\n",
       "       [0.00394963, 0.00395329, 0.00507397, ..., 0.00105545, 0.00092113,\n",
       "        0.00093423],\n",
       "       [0.00442367, 0.00316204, 0.00496551, ..., 0.00098542, 0.00083921,\n",
       "        0.00082032]])"
      ]
     },
     "execution_count": 32,
     "metadata": {},
     "output_type": "execute_result"
    }
   ],
   "source": [
    "x_test_scaled_auto = scaler.transform(x_test_auto)\n",
    "x_test_scaled_auto"
   ]
  },
  {
   "cell_type": "code",
   "execution_count": 33,
   "id": "7058bf15",
   "metadata": {},
   "outputs": [
    {
     "name": "stdout",
     "output_type": "stream",
     "text": [
      "1669/1669 [==============================] - 2s 1ms/step\n"
     ]
    },
    {
     "data": {
      "text/plain": [
       "array([[416.04584],\n",
       "       [414.29083],\n",
       "       [419.77313],\n",
       "       ...,\n",
       "       [413.04565],\n",
       "       [413.82935],\n",
       "       [414.2121 ]], dtype=float32)"
      ]
     },
     "execution_count": 33,
     "metadata": {},
     "output_type": "execute_result"
    }
   ],
   "source": [
    "predict_auto = model3.predict(x_test_scaled_auto)\n",
    "predict_auto"
   ]
  },
  {
   "cell_type": "code",
   "execution_count": 34,
   "id": "f607c3e6",
   "metadata": {},
   "outputs": [
    {
     "data": {
      "text/plain": [
       "14.024818507777047"
      ]
     },
     "execution_count": 34,
     "metadata": {},
     "output_type": "execute_result"
    }
   ],
   "source": [
    "mse = mean_squared_error(y_test_auto, predict_auto)\n",
    "rmse = (mse)**(1/2)\n",
    "rmse"
   ]
  },
  {
   "cell_type": "markdown",
   "id": "644c4580",
   "metadata": {},
   "source": [
    "### Model 4 : Using Random Forest Regressor"
   ]
  },
  {
   "cell_type": "code",
   "execution_count": 35,
   "id": "5fab9109",
   "metadata": {},
   "outputs": [
    {
     "data": {
      "text/plain": [
       "RandomForestRegressor()"
      ]
     },
     "execution_count": 35,
     "metadata": {},
     "output_type": "execute_result"
    }
   ],
   "source": [
    "model4 = RandomForestRegressor()\n",
    "model4.fit(x_train_scaled_auto, y_train_auto)"
   ]
  },
  {
   "cell_type": "code",
   "execution_count": 36,
   "id": "2d07a5dc",
   "metadata": {},
   "outputs": [
    {
     "data": {
      "text/plain": [
       "array([410.21, 407.5 , 417.3 , ..., 414.43, 409.  , 413.69])"
      ]
     },
     "execution_count": 36,
     "metadata": {},
     "output_type": "execute_result"
    }
   ],
   "source": [
    "predict_auto = model4.predict(x_test_scaled_auto)\n",
    "predict_auto"
   ]
  },
  {
   "cell_type": "code",
   "execution_count": 37,
   "id": "7498ab06",
   "metadata": {},
   "outputs": [
    {
     "data": {
      "text/plain": [
       "8.587238116164132"
      ]
     },
     "execution_count": 37,
     "metadata": {},
     "output_type": "execute_result"
    }
   ],
   "source": [
    "mse2 = mean_squared_error(y_test_auto, predict_auto)\n",
    "rmse2 = (mse2)**(1/2)\n",
    "rmse2"
   ]
  },
  {
   "cell_type": "code",
   "execution_count": 64,
   "id": "3e422d0c",
   "metadata": {},
   "outputs": [
    {
     "data": {
      "text/plain": [
       "0.6083539961949828"
      ]
     },
     "execution_count": 64,
     "metadata": {},
     "output_type": "execute_result"
    }
   ],
   "source": [
    "score2 = r2_score(y_test_auto, predict_auto)\n",
    "score2"
   ]
  },
  {
   "cell_type": "markdown",
   "id": "5aa7526e",
   "metadata": {},
   "source": [
    "# Power Share Predictions"
   ]
  },
  {
   "cell_type": "code",
   "execution_count": 38,
   "id": "8c3f71ce",
   "metadata": {},
   "outputs": [
    {
     "data": {
      "text/html": [
       "<div>\n",
       "<style scoped>\n",
       "    .dataframe tbody tr th:only-of-type {\n",
       "        vertical-align: middle;\n",
       "    }\n",
       "\n",
       "    .dataframe tbody tr th {\n",
       "        vertical-align: top;\n",
       "    }\n",
       "\n",
       "    .dataframe thead th {\n",
       "        text-align: right;\n",
       "    }\n",
       "</style>\n",
       "<table border=\"1\" class=\"dataframe\">\n",
       "  <thead>\n",
       "    <tr style=\"text-align: right;\">\n",
       "      <th></th>\n",
       "      <th>0</th>\n",
       "      <th>1</th>\n",
       "      <th>2</th>\n",
       "      <th>3</th>\n",
       "      <th>4</th>\n",
       "      <th>5</th>\n",
       "      <th>6</th>\n",
       "      <th>7</th>\n",
       "      <th>8</th>\n",
       "      <th>9</th>\n",
       "      <th>10</th>\n",
       "      <th>11</th>\n",
       "      <th>12</th>\n",
       "      <th>13</th>\n",
       "    </tr>\n",
       "  </thead>\n",
       "  <tbody>\n",
       "    <tr>\n",
       "      <th>0</th>\n",
       "      <td>0.004128</td>\n",
       "      <td>0.003097</td>\n",
       "      <td>0.004698</td>\n",
       "      <td>0.003308</td>\n",
       "      <td>0.005400</td>\n",
       "      <td>0.015225</td>\n",
       "      <td>0.034514</td>\n",
       "      <td>0.035250</td>\n",
       "      <td>0.027529</td>\n",
       "      <td>0.041238</td>\n",
       "      <td>0.002379</td>\n",
       "      <td>0.000775</td>\n",
       "      <td>0.000959</td>\n",
       "      <td>0.000862</td>\n",
       "    </tr>\n",
       "    <tr>\n",
       "      <th>1</th>\n",
       "      <td>0.003803</td>\n",
       "      <td>0.003584</td>\n",
       "      <td>0.004600</td>\n",
       "      <td>0.001578</td>\n",
       "      <td>0.005910</td>\n",
       "      <td>0.005560</td>\n",
       "      <td>0.018007</td>\n",
       "      <td>0.035964</td>\n",
       "      <td>0.030385</td>\n",
       "      <td>0.025850</td>\n",
       "      <td>0.004272</td>\n",
       "      <td>0.000889</td>\n",
       "      <td>0.000891</td>\n",
       "      <td>0.000793</td>\n",
       "    </tr>\n",
       "    <tr>\n",
       "      <th>2</th>\n",
       "      <td>0.004177</td>\n",
       "      <td>0.003734</td>\n",
       "      <td>0.004976</td>\n",
       "      <td>0.001873</td>\n",
       "      <td>0.003280</td>\n",
       "      <td>0.005464</td>\n",
       "      <td>0.011605</td>\n",
       "      <td>0.033899</td>\n",
       "      <td>0.030011</td>\n",
       "      <td>0.032158</td>\n",
       "      <td>0.002454</td>\n",
       "      <td>0.001000</td>\n",
       "      <td>0.000912</td>\n",
       "      <td>0.000858</td>\n",
       "    </tr>\n",
       "    <tr>\n",
       "      <th>3</th>\n",
       "      <td>0.004225</td>\n",
       "      <td>0.002991</td>\n",
       "      <td>0.004701</td>\n",
       "      <td>0.003680</td>\n",
       "      <td>0.001890</td>\n",
       "      <td>0.013415</td>\n",
       "      <td>0.013806</td>\n",
       "      <td>0.035636</td>\n",
       "      <td>0.027989</td>\n",
       "      <td>0.034569</td>\n",
       "      <td>0.005081</td>\n",
       "      <td>0.000966</td>\n",
       "      <td>0.000918</td>\n",
       "      <td>0.000884</td>\n",
       "    </tr>\n",
       "    <tr>\n",
       "      <th>4</th>\n",
       "      <td>0.003883</td>\n",
       "      <td>0.003654</td>\n",
       "      <td>0.004384</td>\n",
       "      <td>0.001778</td>\n",
       "      <td>0.008801</td>\n",
       "      <td>0.013916</td>\n",
       "      <td>0.029712</td>\n",
       "      <td>0.035974</td>\n",
       "      <td>0.029190</td>\n",
       "      <td>0.029868</td>\n",
       "      <td>0.005231</td>\n",
       "      <td>0.000733</td>\n",
       "      <td>0.000825</td>\n",
       "      <td>0.000812</td>\n",
       "    </tr>\n",
       "    <tr>\n",
       "      <th>...</th>\n",
       "      <td>...</td>\n",
       "      <td>...</td>\n",
       "      <td>...</td>\n",
       "      <td>...</td>\n",
       "      <td>...</td>\n",
       "      <td>...</td>\n",
       "      <td>...</td>\n",
       "      <td>...</td>\n",
       "      <td>...</td>\n",
       "      <td>...</td>\n",
       "      <td>...</td>\n",
       "      <td>...</td>\n",
       "      <td>...</td>\n",
       "      <td>...</td>\n",
       "    </tr>\n",
       "    <tr>\n",
       "      <th>108379</th>\n",
       "      <td>1.000000</td>\n",
       "      <td>1.000000</td>\n",
       "      <td>1.000000</td>\n",
       "      <td>1.000000</td>\n",
       "      <td>1.000000</td>\n",
       "      <td>1.000000</td>\n",
       "      <td>1.000000</td>\n",
       "      <td>1.000000</td>\n",
       "      <td>1.000000</td>\n",
       "      <td>1.000000</td>\n",
       "      <td>1.000000</td>\n",
       "      <td>1.000000</td>\n",
       "      <td>1.000000</td>\n",
       "      <td>1.000000</td>\n",
       "    </tr>\n",
       "    <tr>\n",
       "      <th>108380</th>\n",
       "      <td>0.003874</td>\n",
       "      <td>0.003595</td>\n",
       "      <td>0.004821</td>\n",
       "      <td>0.001225</td>\n",
       "      <td>0.004310</td>\n",
       "      <td>0.001431</td>\n",
       "      <td>0.010804</td>\n",
       "      <td>0.035096</td>\n",
       "      <td>0.030218</td>\n",
       "      <td>0.025441</td>\n",
       "      <td>0.004258</td>\n",
       "      <td>0.001009</td>\n",
       "      <td>0.000938</td>\n",
       "      <td>0.000725</td>\n",
       "    </tr>\n",
       "    <tr>\n",
       "      <th>108381</th>\n",
       "      <td>0.004169</td>\n",
       "      <td>0.002935</td>\n",
       "      <td>0.004644</td>\n",
       "      <td>0.001037</td>\n",
       "      <td>0.011221</td>\n",
       "      <td>0.003628</td>\n",
       "      <td>0.025510</td>\n",
       "      <td>0.036013</td>\n",
       "      <td>0.029844</td>\n",
       "      <td>0.032284</td>\n",
       "      <td>0.000717</td>\n",
       "      <td>0.000838</td>\n",
       "      <td>0.000899</td>\n",
       "      <td>0.000950</td>\n",
       "    </tr>\n",
       "    <tr>\n",
       "      <th>108382</th>\n",
       "      <td>0.004019</td>\n",
       "      <td>0.003639</td>\n",
       "      <td>0.004904</td>\n",
       "      <td>0.001668</td>\n",
       "      <td>0.004220</td>\n",
       "      <td>0.005354</td>\n",
       "      <td>0.013505</td>\n",
       "      <td>0.034546</td>\n",
       "      <td>0.028792</td>\n",
       "      <td>0.035033</td>\n",
       "      <td>0.002321</td>\n",
       "      <td>0.000952</td>\n",
       "      <td>0.000850</td>\n",
       "      <td>0.000910</td>\n",
       "    </tr>\n",
       "    <tr>\n",
       "      <th>108383</th>\n",
       "      <td>0.004604</td>\n",
       "      <td>0.002985</td>\n",
       "      <td>0.005037</td>\n",
       "      <td>0.002564</td>\n",
       "      <td>0.001770</td>\n",
       "      <td>0.014883</td>\n",
       "      <td>0.008503</td>\n",
       "      <td>0.034285</td>\n",
       "      <td>0.027836</td>\n",
       "      <td>0.027995</td>\n",
       "      <td>0.002385</td>\n",
       "      <td>0.001052</td>\n",
       "      <td>0.000740</td>\n",
       "      <td>0.000793</td>\n",
       "    </tr>\n",
       "  </tbody>\n",
       "</table>\n",
       "<p>108384 rows × 14 columns</p>\n",
       "</div>"
      ],
      "text/plain": [
       "              0         1         2         3         4         5         6   \\\n",
       "0       0.004128  0.003097  0.004698  0.003308  0.005400  0.015225  0.034514   \n",
       "1       0.003803  0.003584  0.004600  0.001578  0.005910  0.005560  0.018007   \n",
       "2       0.004177  0.003734  0.004976  0.001873  0.003280  0.005464  0.011605   \n",
       "3       0.004225  0.002991  0.004701  0.003680  0.001890  0.013415  0.013806   \n",
       "4       0.003883  0.003654  0.004384  0.001778  0.008801  0.013916  0.029712   \n",
       "...          ...       ...       ...       ...       ...       ...       ...   \n",
       "108379  1.000000  1.000000  1.000000  1.000000  1.000000  1.000000  1.000000   \n",
       "108380  0.003874  0.003595  0.004821  0.001225  0.004310  0.001431  0.010804   \n",
       "108381  0.004169  0.002935  0.004644  0.001037  0.011221  0.003628  0.025510   \n",
       "108382  0.004019  0.003639  0.004904  0.001668  0.004220  0.005354  0.013505   \n",
       "108383  0.004604  0.002985  0.005037  0.002564  0.001770  0.014883  0.008503   \n",
       "\n",
       "              7         8         9         10        11        12        13  \n",
       "0       0.035250  0.027529  0.041238  0.002379  0.000775  0.000959  0.000862  \n",
       "1       0.035964  0.030385  0.025850  0.004272  0.000889  0.000891  0.000793  \n",
       "2       0.033899  0.030011  0.032158  0.002454  0.001000  0.000912  0.000858  \n",
       "3       0.035636  0.027989  0.034569  0.005081  0.000966  0.000918  0.000884  \n",
       "4       0.035974  0.029190  0.029868  0.005231  0.000733  0.000825  0.000812  \n",
       "...          ...       ...       ...       ...       ...       ...       ...  \n",
       "108379  1.000000  1.000000  1.000000  1.000000  1.000000  1.000000  1.000000  \n",
       "108380  0.035096  0.030218  0.025441  0.004258  0.001009  0.000938  0.000725  \n",
       "108381  0.036013  0.029844  0.032284  0.000717  0.000838  0.000899  0.000950  \n",
       "108382  0.034546  0.028792  0.035033  0.002321  0.000952  0.000850  0.000910  \n",
       "108383  0.034285  0.027836  0.027995  0.002385  0.001052  0.000740  0.000793  \n",
       "\n",
       "[108384 rows x 14 columns]"
      ]
     },
     "execution_count": 38,
     "metadata": {},
     "output_type": "execute_result"
    }
   ],
   "source": [
    "x_train_power, x_test_power, y_train_power, y_test_power = train_test_split(x, y_power, test_size=0.33)\n",
    "scaler = MinMaxScaler()\n",
    "x_train_scaled_power = pd.DataFrame(scaler.fit_transform(x_train_power))\n",
    "x_train_scaled_power"
   ]
  },
  {
   "cell_type": "markdown",
   "id": "fea1a086",
   "metadata": {},
   "source": [
    "### Model 5 : Neural Network"
   ]
  },
  {
   "cell_type": "code",
   "execution_count": 39,
   "id": "2fcb02ba",
   "metadata": {},
   "outputs": [
    {
     "name": "stdout",
     "output_type": "stream",
     "text": [
      "Model: \"sequential_2\"\n",
      "_________________________________________________________________\n",
      " Layer (type)                Output Shape              Param #   \n",
      "=================================================================\n",
      " layer1 (Dense)              (None, 350)               5250      \n",
      "                                                                 \n",
      " layer2 (Dense)              (None, 256)               89856     \n",
      "                                                                 \n",
      " layer3 (Dense)              (None, 125)               32125     \n",
      "                                                                 \n",
      " output_layer (Dense)        (None, 1)                 126       \n",
      "                                                                 \n",
      "=================================================================\n",
      "Total params: 127,357\n",
      "Trainable params: 127,357\n",
      "Non-trainable params: 0\n",
      "_________________________________________________________________\n"
     ]
    }
   ],
   "source": [
    "model5 = Sequential([tf.keras.Input(shape=x_train_scaled_power.shape[1]),\n",
    "                    Dense(units=350, kernel_initializer='normal', activation='relu', name = 'layer1'),\n",
    "                    Dense(units=256, kernel_initializer='normal', activation='relu', name = 'layer2'),\n",
    "                    Dense(units=125, kernel_initializer='normal', activation='relu', name = 'layer3'),\n",
    "                    Dense(units=1, kernel_initializer='normal', activation = 'linear', name = 'output_layer')])\n",
    "model5.summary()"
   ]
  },
  {
   "cell_type": "code",
   "execution_count": 40,
   "id": "ef0844a2",
   "metadata": {},
   "outputs": [
    {
     "name": "stdout",
     "output_type": "stream",
     "text": [
      "Epoch 1/20\n",
      "2168/2168 [==============================] - 8s 3ms/step - loss: 2128.4951\n",
      "Epoch 2/20\n",
      "2168/2168 [==============================] - 8s 3ms/step - loss: 351.4038\n",
      "Epoch 3/20\n",
      "2168/2168 [==============================] - 7s 3ms/step - loss: 342.7775\n",
      "Epoch 4/20\n",
      "2168/2168 [==============================] - 8s 3ms/step - loss: 337.2961\n",
      "Epoch 5/20\n",
      "2168/2168 [==============================] - 7s 3ms/step - loss: 322.3438\n",
      "Epoch 6/20\n",
      "2168/2168 [==============================] - 7s 3ms/step - loss: 319.9523\n",
      "Epoch 7/20\n",
      "2168/2168 [==============================] - 7s 3ms/step - loss: 314.8787\n",
      "Epoch 8/20\n",
      "2168/2168 [==============================] - 7s 3ms/step - loss: 317.9703\n",
      "Epoch 9/20\n",
      "2168/2168 [==============================] - 8s 4ms/step - loss: 309.5098\n",
      "Epoch 10/20\n",
      "2168/2168 [==============================] - 7s 3ms/step - loss: 305.6110\n",
      "Epoch 11/20\n",
      "2168/2168 [==============================] - 8s 4ms/step - loss: 302.8687\n",
      "Epoch 12/20\n",
      "2168/2168 [==============================] - 7s 3ms/step - loss: 305.0733\n",
      "Epoch 13/20\n",
      "2168/2168 [==============================] - 8s 4ms/step - loss: 298.5176\n",
      "Epoch 14/20\n",
      "2168/2168 [==============================] - 7s 3ms/step - loss: 295.2005\n",
      "Epoch 15/20\n",
      "2168/2168 [==============================] - 8s 3ms/step - loss: 293.9035\n",
      "Epoch 16/20\n",
      "2168/2168 [==============================] - 7s 3ms/step - loss: 292.5553\n",
      "Epoch 17/20\n",
      "2168/2168 [==============================] - 7s 3ms/step - loss: 296.0763\n",
      "Epoch 18/20\n",
      "2168/2168 [==============================] - 7s 3ms/step - loss: 291.9191\n",
      "Epoch 19/20\n",
      "2168/2168 [==============================] - 7s 3ms/step - loss: 291.9800\n",
      "Epoch 20/20\n",
      "2168/2168 [==============================] - 7s 3ms/step - loss: 290.3763\n"
     ]
    }
   ],
   "source": [
    "model5.compile(optimizer=Adam(0.01), loss=tf.keras.losses.MeanSquaredError())\n",
    "history5 = model5.fit(x_train_scaled_power, y_train_power, epochs = 20, batch_size = 50)"
   ]
  },
  {
   "cell_type": "code",
   "execution_count": 41,
   "id": "6dba1298",
   "metadata": {},
   "outputs": [
    {
     "data": {
      "text/plain": [
       "array([2128.49511719,  351.40380859,  342.77749634,  337.29605103,\n",
       "        322.34378052,  319.95227051,  314.87869263,  317.97027588,\n",
       "        309.50976562,  305.61096191,  302.86871338,  305.07330322,\n",
       "        298.51763916,  295.20046997,  293.9034729 ,  292.55526733,\n",
       "        296.07632446,  291.91912842,  291.97998047,  290.37634277])"
      ]
     },
     "execution_count": 41,
     "metadata": {},
     "output_type": "execute_result"
    }
   ],
   "source": [
    "loss5 = (np.array(history5.history.get('loss')))\n",
    "loss5"
   ]
  },
  {
   "cell_type": "code",
   "execution_count": 42,
   "id": "65acda46",
   "metadata": {},
   "outputs": [
    {
     "data": {
      "image/png": "[encoded data removed]",
      "text/plain": [
       "<Figure size 576x432 with 1 Axes>"
      ]
     },
     "metadata": {
      "needs_background": "light"
     },
     "output_type": "display_data"
    }
   ],
   "source": [
    "plt.figure(figsize=(8,6))\n",
    "plt.plot(loss5, color = 'red')\n",
    "plt.title('Loss vs Iteration for Automobile Model')\n",
    "plt.xlabel('Iterations')\n",
    "plt.ylabel('Loss Value')\n",
    "plt.show()"
   ]
  },
  {
   "cell_type": "code",
   "execution_count": 43,
   "id": "feae9dab",
   "metadata": {},
   "outputs": [
    {
     "data": {
      "text/plain": [
       "array([[4.54317309e-03, 3.32771903e-03, 4.72137987e-03, ...,\n",
       "        9.75416503e-04, 8.32211895e-04, 8.21323230e-04],\n",
       "       [4.16573719e-03, 3.12141839e-03, 5.03587313e-03, ...,\n",
       "        1.03244085e-03, 8.31212841e-04, 7.43387449e-04],\n",
       "       [3.70663969e-03, 3.42937442e-03, 4.73332265e-03, ...,\n",
       "        9.07387454e-04, 8.89157967e-04, 8.38309233e-04],\n",
       "       ...,\n",
       "       [4.18665052e-03, 3.79812436e-03, 4.99705909e-03, ...,\n",
       "        8.17349008e-04, 8.81165536e-04, 8.32314173e-04],\n",
       "       [1.00000000e+00, 1.00000000e+00, 1.00000000e+00, ...,\n",
       "        1.00000000e+00, 1.00000000e+00, 1.00000000e+00],\n",
       "       [4.44059816e-03, 3.51209400e-03, 4.61887099e-03, ...,\n",
       "        9.07387454e-04, 8.26217572e-04, 7.98342166e-04]])"
      ]
     },
     "execution_count": 43,
     "metadata": {},
     "output_type": "execute_result"
    }
   ],
   "source": [
    "x_test_scaled_power = scaler.transform(x_test_power)\n",
    "x_test_scaled_power"
   ]
  },
  {
   "cell_type": "code",
   "execution_count": 44,
   "id": "db617825",
   "metadata": {},
   "outputs": [
    {
     "name": "stdout",
     "output_type": "stream",
     "text": [
      "1669/1669 [==============================] - 3s 1ms/step\n"
     ]
    },
    {
     "data": {
      "text/plain": [
       "array([[508.86835],\n",
       "       [507.60266],\n",
       "       [509.59842],\n",
       "       ...,\n",
       "       [507.96667],\n",
       "       [503.57205],\n",
       "       [506.72174]], dtype=float32)"
      ]
     },
     "execution_count": 44,
     "metadata": {},
     "output_type": "execute_result"
    }
   ],
   "source": [
    "predict_power = model5.predict(x_test_scaled_power)\n",
    "predict_power"
   ]
  },
  {
   "cell_type": "code",
   "execution_count": 45,
   "id": "ebb6da42",
   "metadata": {},
   "outputs": [
    {
     "data": {
      "text/plain": [
       "15.757650881784748"
      ]
     },
     "execution_count": 45,
     "metadata": {},
     "output_type": "execute_result"
    }
   ],
   "source": [
    "mse = mean_squared_error(y_test_power, predict_power)\n",
    "rmse = (mse)**(1/2)\n",
    "rmse"
   ]
  },
  {
   "cell_type": "markdown",
   "id": "0a6f8fb4",
   "metadata": {},
   "source": [
    "### Model 6 : Random Forest Regressor"
   ]
  },
  {
   "cell_type": "code",
   "execution_count": 46,
   "id": "8a70f468",
   "metadata": {},
   "outputs": [
    {
     "data": {
      "text/plain": [
       "RandomForestRegressor()"
      ]
     },
     "execution_count": 46,
     "metadata": {},
     "output_type": "execute_result"
    }
   ],
   "source": [
    "model6 = RandomForestRegressor()\n",
    "model6.fit(x_train_scaled_power, y_train_power)"
   ]
  },
  {
   "cell_type": "code",
   "execution_count": 47,
   "id": "9b6b0c8d",
   "metadata": {},
   "outputs": [
    {
     "data": {
      "text/plain": [
       "array([503.62      , 505.59      , 503.22      , ..., 507.75      ,\n",
       "       510.27904953, 504.43      ])"
      ]
     },
     "execution_count": 47,
     "metadata": {},
     "output_type": "execute_result"
    }
   ],
   "source": [
    "predict_power = model6.predict(x_test_scaled_power)\n",
    "predict_power"
   ]
  },
  {
   "cell_type": "code",
   "execution_count": 48,
   "id": "bea83e26",
   "metadata": {},
   "outputs": [
    {
     "data": {
      "text/plain": [
       "15.757650881784748"
      ]
     },
     "execution_count": 48,
     "metadata": {},
     "output_type": "execute_result"
    }
   ],
   "source": [
    "mse3 = mean_squared_error(y_test_power, predict_power)\n",
    "rmse3 = (mse)**(1/2)\n",
    "rmse3"
   ]
  },
  {
   "cell_type": "code",
   "execution_count": 65,
   "id": "dbf8f02a",
   "metadata": {},
   "outputs": [
    {
     "data": {
      "text/plain": [
       "0.5623797681344902"
      ]
     },
     "execution_count": 65,
     "metadata": {},
     "output_type": "execute_result"
    }
   ],
   "source": [
    "score3 = r2_score(y_test_power, predict_power)\n",
    "score3"
   ]
  },
  {
   "cell_type": "code",
   "execution_count": 66,
   "id": "07f7e5be",
   "metadata": {},
   "outputs": [
    {
     "data": {
      "text/plain": [
       "12.275238252412501"
      ]
     },
     "execution_count": 66,
     "metadata": {},
     "output_type": "execute_result"
    }
   ],
   "source": [
    "net_RMSE = (rmse1 + rmse2 + rmse3)/3\n",
    "net_RMSE"
   ]
  },
  {
   "cell_type": "code",
   "execution_count": 69,
   "id": "9542973b",
   "metadata": {},
   "outputs": [
    {
     "name": "stdout",
     "output_type": "stream",
     "text": [
      "58.95878275986275 %\n"
     ]
    }
   ],
   "source": [
    "Net_Accuracy = (score1 + score2 + score3)*100/3\n",
    "print(Net_Accuracy, \"%\")"
   ]
  },
  {
   "cell_type": "markdown",
   "id": "c5e73c30",
   "metadata": {},
   "source": [
    "# Uncertainity value for Combined Predictions"
   ]
  },
  {
   "cell_type": "code",
   "execution_count": 70,
   "id": "58f2f8bf",
   "metadata": {},
   "outputs": [
    {
     "name": "stdout",
     "output_type": "stream",
     "text": [
      "41.04121724013725 %\n"
     ]
    }
   ],
   "source": [
    "uncertainity_value = 100 - Net_Accuracy\n",
    "print(uncertainity_value, \"%\")"
   ]
  },
  {
   "cell_type": "markdown",
   "id": "fc2089d6",
   "metadata": {},
   "source": [
    "# Selecting best Model for Final Predictions:\n",
    "Now that we have used two different approaches for predictions, which are Neural Network and Random Forest Regressor, it has been found that Random Forest Regressor best fits the data, giving least value of RMSE.\n",
    "Hence we will be using Random Forest Regressor for making final models for all three subsidiaries."
   ]
  },
  {
   "cell_type": "code",
   "execution_count": 6,
   "id": "53249684",
   "metadata": {},
   "outputs": [
    {
     "data": {
      "text/html": [
       "<div>\n",
       "<style scoped>\n",
       "    .dataframe tbody tr th:only-of-type {\n",
       "        vertical-align: middle;\n",
       "    }\n",
       "\n",
       "    .dataframe tbody tr th {\n",
       "        vertical-align: top;\n",
       "    }\n",
       "\n",
       "    .dataframe thead th {\n",
       "        text-align: right;\n",
       "    }\n",
       "</style>\n",
       "<table border=\"1\" class=\"dataframe\">\n",
       "  <thead>\n",
       "    <tr style=\"text-align: right;\">\n",
       "      <th></th>\n",
       "      <th>0</th>\n",
       "      <th>1</th>\n",
       "      <th>2</th>\n",
       "      <th>3</th>\n",
       "      <th>4</th>\n",
       "      <th>5</th>\n",
       "      <th>6</th>\n",
       "      <th>7</th>\n",
       "      <th>8</th>\n",
       "      <th>9</th>\n",
       "      <th>10</th>\n",
       "      <th>11</th>\n",
       "      <th>12</th>\n",
       "      <th>13</th>\n",
       "    </tr>\n",
       "  </thead>\n",
       "  <tbody>\n",
       "    <tr>\n",
       "      <th>0</th>\n",
       "      <td>0.004431</td>\n",
       "      <td>0.003334</td>\n",
       "      <td>0.004311</td>\n",
       "      <td>0.002169</td>\n",
       "      <td>0.00517</td>\n",
       "      <td>0.007605</td>\n",
       "      <td>0.020708</td>\n",
       "      <td>0.037672</td>\n",
       "      <td>0.018159</td>\n",
       "      <td>0.030946</td>\n",
       "      <td>0.003690</td>\n",
       "      <td>0.000775</td>\n",
       "      <td>0.000867</td>\n",
       "      <td>0.001018</td>\n",
       "    </tr>\n",
       "    <tr>\n",
       "      <th>1</th>\n",
       "      <td>0.004512</td>\n",
       "      <td>0.002967</td>\n",
       "      <td>0.004604</td>\n",
       "      <td>0.001979</td>\n",
       "      <td>0.00614</td>\n",
       "      <td>0.002807</td>\n",
       "      <td>0.022509</td>\n",
       "      <td>0.036929</td>\n",
       "      <td>0.018179</td>\n",
       "      <td>0.030961</td>\n",
       "      <td>0.003692</td>\n",
       "      <td>0.000819</td>\n",
       "      <td>0.000961</td>\n",
       "      <td>0.000975</td>\n",
       "    </tr>\n",
       "    <tr>\n",
       "      <th>2</th>\n",
       "      <td>0.004242</td>\n",
       "      <td>0.002829</td>\n",
       "      <td>0.005382</td>\n",
       "      <td>0.002048</td>\n",
       "      <td>0.00544</td>\n",
       "      <td>0.001636</td>\n",
       "      <td>0.020608</td>\n",
       "      <td>0.034237</td>\n",
       "      <td>0.018199</td>\n",
       "      <td>0.030976</td>\n",
       "      <td>0.003694</td>\n",
       "      <td>0.000905</td>\n",
       "      <td>0.000943</td>\n",
       "      <td>0.000924</td>\n",
       "    </tr>\n",
       "    <tr>\n",
       "      <th>3</th>\n",
       "      <td>0.004388</td>\n",
       "      <td>0.002756</td>\n",
       "      <td>0.005129</td>\n",
       "      <td>0.001927</td>\n",
       "      <td>0.00518</td>\n",
       "      <td>0.001900</td>\n",
       "      <td>0.018507</td>\n",
       "      <td>0.035453</td>\n",
       "      <td>0.018219</td>\n",
       "      <td>0.030991</td>\n",
       "      <td>0.003696</td>\n",
       "      <td>0.000923</td>\n",
       "      <td>0.000952</td>\n",
       "      <td>0.000928</td>\n",
       "    </tr>\n",
       "    <tr>\n",
       "      <th>4</th>\n",
       "      <td>0.004460</td>\n",
       "      <td>0.002781</td>\n",
       "      <td>0.004867</td>\n",
       "      <td>0.001873</td>\n",
       "      <td>0.00479</td>\n",
       "      <td>0.002352</td>\n",
       "      <td>0.016707</td>\n",
       "      <td>0.036447</td>\n",
       "      <td>0.018239</td>\n",
       "      <td>0.031005</td>\n",
       "      <td>0.003698</td>\n",
       "      <td>0.000933</td>\n",
       "      <td>0.000978</td>\n",
       "      <td>0.000934</td>\n",
       "    </tr>\n",
       "  </tbody>\n",
       "</table>\n",
       "</div>"
      ],
      "text/plain": [
       "         0         1         2         3        4         5         6   \\\n",
       "0  0.004431  0.003334  0.004311  0.002169  0.00517  0.007605  0.020708   \n",
       "1  0.004512  0.002967  0.004604  0.001979  0.00614  0.002807  0.022509   \n",
       "2  0.004242  0.002829  0.005382  0.002048  0.00544  0.001636  0.020608   \n",
       "3  0.004388  0.002756  0.005129  0.001927  0.00518  0.001900  0.018507   \n",
       "4  0.004460  0.002781  0.004867  0.001873  0.00479  0.002352  0.016707   \n",
       "\n",
       "         7         8         9         10        11        12        13  \n",
       "0  0.037672  0.018159  0.030946  0.003690  0.000775  0.000867  0.001018  \n",
       "1  0.036929  0.018179  0.030961  0.003692  0.000819  0.000961  0.000975  \n",
       "2  0.034237  0.018199  0.030976  0.003694  0.000905  0.000943  0.000924  \n",
       "3  0.035453  0.018219  0.030991  0.003696  0.000923  0.000952  0.000928  \n",
       "4  0.036447  0.018239  0.031005  0.003698  0.000933  0.000978  0.000934  "
      ]
     },
     "execution_count": 6,
     "metadata": {},
     "output_type": "execute_result"
    }
   ],
   "source": [
    "scaler2 = MinMaxScaler()\n",
    "x_scaled = pd.DataFrame(scaler2.fit_transform(x))\n",
    "x_scaled.head()"
   ]
  },
  {
   "cell_type": "code",
   "execution_count": 7,
   "id": "8288227d",
   "metadata": {},
   "outputs": [
    {
     "data": {
      "text/plain": [
       "RandomForestRegressor()"
      ]
     },
     "execution_count": 7,
     "metadata": {},
     "output_type": "execute_result"
    }
   ],
   "source": [
    "consultant_model = RandomForestRegressor()\n",
    "consultant_model.fit(x_scaled, y_consult)"
   ]
  },
  {
   "cell_type": "code",
   "execution_count": 8,
   "id": "124489e4",
   "metadata": {},
   "outputs": [
    {
     "data": {
      "text/plain": [
       "RandomForestRegressor()"
      ]
     },
     "execution_count": 8,
     "metadata": {},
     "output_type": "execute_result"
    }
   ],
   "source": [
    "automobile_model = RandomForestRegressor()\n",
    "automobile_model.fit(x_scaled, y_auto)"
   ]
  },
  {
   "cell_type": "code",
   "execution_count": 9,
   "id": "032c4cd2",
   "metadata": {},
   "outputs": [
    {
     "data": {
      "text/plain": [
       "RandomForestRegressor()"
      ]
     },
     "execution_count": 9,
     "metadata": {},
     "output_type": "execute_result"
    }
   ],
   "source": [
    "power_model = RandomForestRegressor()\n",
    "power_model.fit(x_scaled, y_power)"
   ]
  },
  {
   "cell_type": "code",
   "execution_count": 10,
   "id": "2156d1e4",
   "metadata": {},
   "outputs": [
    {
     "data": {
      "text/html": [
       "<div>\n",
       "<style scoped>\n",
       "    .dataframe tbody tr th:only-of-type {\n",
       "        vertical-align: middle;\n",
       "    }\n",
       "\n",
       "    .dataframe tbody tr th {\n",
       "        vertical-align: top;\n",
       "    }\n",
       "\n",
       "    .dataframe thead th {\n",
       "        text-align: right;\n",
       "    }\n",
       "</style>\n",
       "<table border=\"1\" class=\"dataframe\">\n",
       "  <thead>\n",
       "    <tr style=\"text-align: right;\">\n",
       "      <th></th>\n",
       "      <th>dates</th>\n",
       "      <th>Factor A</th>\n",
       "      <th>Factor B</th>\n",
       "      <th>Factor C</th>\n",
       "      <th>Factor D</th>\n",
       "      <th>Factor E</th>\n",
       "      <th>Factor F</th>\n",
       "      <th>Factor G</th>\n",
       "      <th>Factor H</th>\n",
       "      <th>Factor I</th>\n",
       "      <th>Factor J</th>\n",
       "      <th>Factor K</th>\n",
       "      <th>Factor L</th>\n",
       "      <th>Factor M</th>\n",
       "      <th>Factor N</th>\n",
       "    </tr>\n",
       "  </thead>\n",
       "  <tbody>\n",
       "    <tr>\n",
       "      <th>0</th>\n",
       "      <td>2142-11-28</td>\n",
       "      <td>10499.99</td>\n",
       "      <td>10499.99</td>\n",
       "      <td>10499.99</td>\n",
       "      <td>100499.9</td>\n",
       "      <td>1499.99</td>\n",
       "      <td>10000500.0</td>\n",
       "      <td>599.99</td>\n",
       "      <td>1499.99</td>\n",
       "      <td>10499.99</td>\n",
       "      <td>10499.99</td>\n",
       "      <td>10499.99</td>\n",
       "      <td>10499.99</td>\n",
       "      <td>10499.99</td>\n",
       "      <td>10499.99</td>\n",
       "    </tr>\n",
       "    <tr>\n",
       "      <th>1</th>\n",
       "      <td>2142-11-29</td>\n",
       "      <td>10499.99</td>\n",
       "      <td>10499.99</td>\n",
       "      <td>10499.99</td>\n",
       "      <td>100499.9</td>\n",
       "      <td>1499.99</td>\n",
       "      <td>10000500.0</td>\n",
       "      <td>599.99</td>\n",
       "      <td>1499.99</td>\n",
       "      <td>10499.99</td>\n",
       "      <td>10499.99</td>\n",
       "      <td>10499.99</td>\n",
       "      <td>10499.99</td>\n",
       "      <td>10499.99</td>\n",
       "      <td>10499.99</td>\n",
       "    </tr>\n",
       "    <tr>\n",
       "      <th>2</th>\n",
       "      <td>2142-11-30</td>\n",
       "      <td>10499.99</td>\n",
       "      <td>10499.99</td>\n",
       "      <td>10499.99</td>\n",
       "      <td>100499.9</td>\n",
       "      <td>1499.99</td>\n",
       "      <td>10000500.0</td>\n",
       "      <td>599.99</td>\n",
       "      <td>1499.99</td>\n",
       "      <td>10499.99</td>\n",
       "      <td>10499.99</td>\n",
       "      <td>10499.99</td>\n",
       "      <td>10499.99</td>\n",
       "      <td>10499.99</td>\n",
       "      <td>10499.99</td>\n",
       "    </tr>\n",
       "    <tr>\n",
       "      <th>3</th>\n",
       "      <td>2142-12-01</td>\n",
       "      <td>10499.99</td>\n",
       "      <td>10499.99</td>\n",
       "      <td>10499.99</td>\n",
       "      <td>100499.9</td>\n",
       "      <td>1499.99</td>\n",
       "      <td>10000500.0</td>\n",
       "      <td>599.99</td>\n",
       "      <td>1499.99</td>\n",
       "      <td>10499.99</td>\n",
       "      <td>10499.99</td>\n",
       "      <td>10499.99</td>\n",
       "      <td>10499.99</td>\n",
       "      <td>10499.99</td>\n",
       "      <td>10499.99</td>\n",
       "    </tr>\n",
       "    <tr>\n",
       "      <th>4</th>\n",
       "      <td>2142-12-02</td>\n",
       "      <td>503.94</td>\n",
       "      <td>497.55</td>\n",
       "      <td>499.63</td>\n",
       "      <td>894.7</td>\n",
       "      <td>502.82</td>\n",
       "      <td>94705.0</td>\n",
       "      <td>500.88</td>\n",
       "      <td>499.93</td>\n",
       "      <td>736.35</td>\n",
       "      <td>596.33</td>\n",
       "      <td>498.68</td>\n",
       "      <td>514.90</td>\n",
       "      <td>499.69</td>\n",
       "      <td>500.44</td>\n",
       "    </tr>\n",
       "  </tbody>\n",
       "</table>\n",
       "</div>"
      ],
      "text/plain": [
       "        dates  Factor A  Factor B  Factor C  Factor D  Factor E    Factor F  \\\n",
       "0  2142-11-28  10499.99  10499.99  10499.99  100499.9   1499.99  10000500.0   \n",
       "1  2142-11-29  10499.99  10499.99  10499.99  100499.9   1499.99  10000500.0   \n",
       "2  2142-11-30  10499.99  10499.99  10499.99  100499.9   1499.99  10000500.0   \n",
       "3  2142-12-01  10499.99  10499.99  10499.99  100499.9   1499.99  10000500.0   \n",
       "4  2142-12-02    503.94    497.55    499.63     894.7    502.82     94705.0   \n",
       "\n",
       "   Factor G  Factor H  Factor I  Factor J  Factor K  Factor L  Factor M  \\\n",
       "0    599.99   1499.99  10499.99  10499.99  10499.99  10499.99  10499.99   \n",
       "1    599.99   1499.99  10499.99  10499.99  10499.99  10499.99  10499.99   \n",
       "2    599.99   1499.99  10499.99  10499.99  10499.99  10499.99  10499.99   \n",
       "3    599.99   1499.99  10499.99  10499.99  10499.99  10499.99  10499.99   \n",
       "4    500.88    499.93    736.35    596.33    498.68    514.90    499.69   \n",
       "\n",
       "   Factor N  \n",
       "0  10499.99  \n",
       "1  10499.99  \n",
       "2  10499.99  \n",
       "3  10499.99  \n",
       "4    500.44  "
      ]
     },
     "execution_count": 10,
     "metadata": {},
     "output_type": "execute_result"
    }
   ],
   "source": [
    "prediction_data = pd.read_csv('Hackathon_test.csv')\n",
    "prediction_data.head()"
   ]
  },
  {
   "cell_type": "code",
   "execution_count": 11,
   "id": "0431cf21",
   "metadata": {},
   "outputs": [
    {
     "data": {
      "text/html": [
       "<div>\n",
       "<style scoped>\n",
       "    .dataframe tbody tr th:only-of-type {\n",
       "        vertical-align: middle;\n",
       "    }\n",
       "\n",
       "    .dataframe tbody tr th {\n",
       "        vertical-align: top;\n",
       "    }\n",
       "\n",
       "    .dataframe thead th {\n",
       "        text-align: right;\n",
       "    }\n",
       "</style>\n",
       "<table border=\"1\" class=\"dataframe\">\n",
       "  <thead>\n",
       "    <tr style=\"text-align: right;\">\n",
       "      <th></th>\n",
       "      <th>Factor A</th>\n",
       "      <th>Factor B</th>\n",
       "      <th>Factor C</th>\n",
       "      <th>Factor D</th>\n",
       "      <th>Factor E</th>\n",
       "      <th>Factor F</th>\n",
       "      <th>Factor G</th>\n",
       "      <th>Factor H</th>\n",
       "      <th>Factor I</th>\n",
       "      <th>Factor J</th>\n",
       "      <th>Factor K</th>\n",
       "      <th>Factor L</th>\n",
       "      <th>Factor M</th>\n",
       "      <th>Factor N</th>\n",
       "    </tr>\n",
       "  </thead>\n",
       "  <tbody>\n",
       "    <tr>\n",
       "      <th>0</th>\n",
       "      <td>10499.99</td>\n",
       "      <td>10499.99</td>\n",
       "      <td>10499.99</td>\n",
       "      <td>100499.9</td>\n",
       "      <td>1499.99</td>\n",
       "      <td>10000500.0</td>\n",
       "      <td>599.99</td>\n",
       "      <td>1499.99</td>\n",
       "      <td>10499.99</td>\n",
       "      <td>10499.99</td>\n",
       "      <td>10499.99</td>\n",
       "      <td>10499.99</td>\n",
       "      <td>10499.99</td>\n",
       "      <td>10499.99</td>\n",
       "    </tr>\n",
       "    <tr>\n",
       "      <th>1</th>\n",
       "      <td>10499.99</td>\n",
       "      <td>10499.99</td>\n",
       "      <td>10499.99</td>\n",
       "      <td>100499.9</td>\n",
       "      <td>1499.99</td>\n",
       "      <td>10000500.0</td>\n",
       "      <td>599.99</td>\n",
       "      <td>1499.99</td>\n",
       "      <td>10499.99</td>\n",
       "      <td>10499.99</td>\n",
       "      <td>10499.99</td>\n",
       "      <td>10499.99</td>\n",
       "      <td>10499.99</td>\n",
       "      <td>10499.99</td>\n",
       "    </tr>\n",
       "    <tr>\n",
       "      <th>2</th>\n",
       "      <td>10499.99</td>\n",
       "      <td>10499.99</td>\n",
       "      <td>10499.99</td>\n",
       "      <td>100499.9</td>\n",
       "      <td>1499.99</td>\n",
       "      <td>10000500.0</td>\n",
       "      <td>599.99</td>\n",
       "      <td>1499.99</td>\n",
       "      <td>10499.99</td>\n",
       "      <td>10499.99</td>\n",
       "      <td>10499.99</td>\n",
       "      <td>10499.99</td>\n",
       "      <td>10499.99</td>\n",
       "      <td>10499.99</td>\n",
       "    </tr>\n",
       "    <tr>\n",
       "      <th>3</th>\n",
       "      <td>10499.99</td>\n",
       "      <td>10499.99</td>\n",
       "      <td>10499.99</td>\n",
       "      <td>100499.9</td>\n",
       "      <td>1499.99</td>\n",
       "      <td>10000500.0</td>\n",
       "      <td>599.99</td>\n",
       "      <td>1499.99</td>\n",
       "      <td>10499.99</td>\n",
       "      <td>10499.99</td>\n",
       "      <td>10499.99</td>\n",
       "      <td>10499.99</td>\n",
       "      <td>10499.99</td>\n",
       "      <td>10499.99</td>\n",
       "    </tr>\n",
       "    <tr>\n",
       "      <th>4</th>\n",
       "      <td>503.94</td>\n",
       "      <td>497.55</td>\n",
       "      <td>499.63</td>\n",
       "      <td>894.7</td>\n",
       "      <td>502.82</td>\n",
       "      <td>94705.0</td>\n",
       "      <td>500.88</td>\n",
       "      <td>499.93</td>\n",
       "      <td>736.35</td>\n",
       "      <td>596.33</td>\n",
       "      <td>498.68</td>\n",
       "      <td>514.90</td>\n",
       "      <td>499.69</td>\n",
       "      <td>500.44</td>\n",
       "    </tr>\n",
       "  </tbody>\n",
       "</table>\n",
       "</div>"
      ],
      "text/plain": [
       "   Factor A  Factor B  Factor C  Factor D  Factor E    Factor F  Factor G  \\\n",
       "0  10499.99  10499.99  10499.99  100499.9   1499.99  10000500.0    599.99   \n",
       "1  10499.99  10499.99  10499.99  100499.9   1499.99  10000500.0    599.99   \n",
       "2  10499.99  10499.99  10499.99  100499.9   1499.99  10000500.0    599.99   \n",
       "3  10499.99  10499.99  10499.99  100499.9   1499.99  10000500.0    599.99   \n",
       "4    503.94    497.55    499.63     894.7    502.82     94705.0    500.88   \n",
       "\n",
       "   Factor H  Factor I  Factor J  Factor K  Factor L  Factor M  Factor N  \n",
       "0   1499.99  10499.99  10499.99  10499.99  10499.99  10499.99  10499.99  \n",
       "1   1499.99  10499.99  10499.99  10499.99  10499.99  10499.99  10499.99  \n",
       "2   1499.99  10499.99  10499.99  10499.99  10499.99  10499.99  10499.99  \n",
       "3   1499.99  10499.99  10499.99  10499.99  10499.99  10499.99  10499.99  \n",
       "4    499.93    736.35    596.33    498.68    514.90    499.69    500.44  "
      ]
     },
     "execution_count": 11,
     "metadata": {},
     "output_type": "execute_result"
    }
   ],
   "source": [
    "prediction_data.drop(columns = 'dates', inplace=True)\n",
    "prediction_data.head()"
   ]
  },
  {
   "cell_type": "code",
   "execution_count": 14,
   "id": "d9ca85c9",
   "metadata": {},
   "outputs": [
    {
     "data": {
      "text/html": [
       "<div>\n",
       "<style scoped>\n",
       "    .dataframe tbody tr th:only-of-type {\n",
       "        vertical-align: middle;\n",
       "    }\n",
       "\n",
       "    .dataframe tbody tr th {\n",
       "        vertical-align: top;\n",
       "    }\n",
       "\n",
       "    .dataframe thead th {\n",
       "        text-align: right;\n",
       "    }\n",
       "</style>\n",
       "<table border=\"1\" class=\"dataframe\">\n",
       "  <thead>\n",
       "    <tr style=\"text-align: right;\">\n",
       "      <th></th>\n",
       "      <th>0</th>\n",
       "      <th>1</th>\n",
       "      <th>2</th>\n",
       "      <th>3</th>\n",
       "      <th>4</th>\n",
       "      <th>5</th>\n",
       "      <th>6</th>\n",
       "      <th>7</th>\n",
       "      <th>8</th>\n",
       "      <th>9</th>\n",
       "      <th>10</th>\n",
       "      <th>11</th>\n",
       "      <th>12</th>\n",
       "      <th>13</th>\n",
       "    </tr>\n",
       "  </thead>\n",
       "  <tbody>\n",
       "    <tr>\n",
       "      <th>0</th>\n",
       "      <td>1.000000</td>\n",
       "      <td>1.000000</td>\n",
       "      <td>1.000000</td>\n",
       "      <td>1.000000</td>\n",
       "      <td>1.00000</td>\n",
       "      <td>1.000000</td>\n",
       "      <td>1.000000</td>\n",
       "      <td>1.000000</td>\n",
       "      <td>1.000000</td>\n",
       "      <td>1.000000</td>\n",
       "      <td>1.000000</td>\n",
       "      <td>1.000000</td>\n",
       "      <td>1.000000</td>\n",
       "      <td>1.000000</td>\n",
       "    </tr>\n",
       "    <tr>\n",
       "      <th>1</th>\n",
       "      <td>1.000000</td>\n",
       "      <td>1.000000</td>\n",
       "      <td>1.000000</td>\n",
       "      <td>1.000000</td>\n",
       "      <td>1.00000</td>\n",
       "      <td>1.000000</td>\n",
       "      <td>1.000000</td>\n",
       "      <td>1.000000</td>\n",
       "      <td>1.000000</td>\n",
       "      <td>1.000000</td>\n",
       "      <td>1.000000</td>\n",
       "      <td>1.000000</td>\n",
       "      <td>1.000000</td>\n",
       "      <td>1.000000</td>\n",
       "    </tr>\n",
       "    <tr>\n",
       "      <th>2</th>\n",
       "      <td>1.000000</td>\n",
       "      <td>1.000000</td>\n",
       "      <td>1.000000</td>\n",
       "      <td>1.000000</td>\n",
       "      <td>1.00000</td>\n",
       "      <td>1.000000</td>\n",
       "      <td>1.000000</td>\n",
       "      <td>1.000000</td>\n",
       "      <td>1.000000</td>\n",
       "      <td>1.000000</td>\n",
       "      <td>1.000000</td>\n",
       "      <td>1.000000</td>\n",
       "      <td>1.000000</td>\n",
       "      <td>1.000000</td>\n",
       "    </tr>\n",
       "    <tr>\n",
       "      <th>3</th>\n",
       "      <td>1.000000</td>\n",
       "      <td>1.000000</td>\n",
       "      <td>1.000000</td>\n",
       "      <td>1.000000</td>\n",
       "      <td>1.00000</td>\n",
       "      <td>1.000000</td>\n",
       "      <td>1.000000</td>\n",
       "      <td>1.000000</td>\n",
       "      <td>1.000000</td>\n",
       "      <td>1.000000</td>\n",
       "      <td>1.000000</td>\n",
       "      <td>1.000000</td>\n",
       "      <td>1.000000</td>\n",
       "      <td>1.000000</td>\n",
       "    </tr>\n",
       "    <tr>\n",
       "      <th>4</th>\n",
       "      <td>0.004573</td>\n",
       "      <td>0.003135</td>\n",
       "      <td>0.004873</td>\n",
       "      <td>0.001611</td>\n",
       "      <td>0.00273</td>\n",
       "      <td>0.009171</td>\n",
       "      <td>0.008503</td>\n",
       "      <td>0.029991</td>\n",
       "      <td>0.028698</td>\n",
       "      <td>0.040607</td>\n",
       "      <td>0.002666</td>\n",
       "      <td>0.001001</td>\n",
       "      <td>0.000916</td>\n",
       "      <td>0.000713</td>\n",
       "    </tr>\n",
       "    <tr>\n",
       "      <th>...</th>\n",
       "      <td>...</td>\n",
       "      <td>...</td>\n",
       "      <td>...</td>\n",
       "      <td>...</td>\n",
       "      <td>...</td>\n",
       "      <td>...</td>\n",
       "      <td>...</td>\n",
       "      <td>...</td>\n",
       "      <td>...</td>\n",
       "      <td>...</td>\n",
       "      <td>...</td>\n",
       "      <td>...</td>\n",
       "      <td>...</td>\n",
       "      <td>...</td>\n",
       "    </tr>\n",
       "    <tr>\n",
       "      <th>29995</th>\n",
       "      <td>0.004262</td>\n",
       "      <td>0.004045</td>\n",
       "      <td>0.004999</td>\n",
       "      <td>0.001601</td>\n",
       "      <td>0.00412</td>\n",
       "      <td>0.023041</td>\n",
       "      <td>0.012705</td>\n",
       "      <td>0.029322</td>\n",
       "      <td>0.028690</td>\n",
       "      <td>0.039643</td>\n",
       "      <td>0.003590</td>\n",
       "      <td>0.000937</td>\n",
       "      <td>0.000645</td>\n",
       "      <td>0.000747</td>\n",
       "    </tr>\n",
       "    <tr>\n",
       "      <th>29996</th>\n",
       "      <td>0.004127</td>\n",
       "      <td>0.003757</td>\n",
       "      <td>0.005452</td>\n",
       "      <td>0.001798</td>\n",
       "      <td>0.00412</td>\n",
       "      <td>0.017754</td>\n",
       "      <td>0.014106</td>\n",
       "      <td>0.027692</td>\n",
       "      <td>0.028694</td>\n",
       "      <td>0.039636</td>\n",
       "      <td>0.003591</td>\n",
       "      <td>0.000922</td>\n",
       "      <td>0.000757</td>\n",
       "      <td>0.000774</td>\n",
       "    </tr>\n",
       "    <tr>\n",
       "      <th>29997</th>\n",
       "      <td>0.004364</td>\n",
       "      <td>0.003831</td>\n",
       "      <td>0.005422</td>\n",
       "      <td>0.001703</td>\n",
       "      <td>0.00381</td>\n",
       "      <td>0.019101</td>\n",
       "      <td>0.012405</td>\n",
       "      <td>0.027595</td>\n",
       "      <td>0.028701</td>\n",
       "      <td>0.039629</td>\n",
       "      <td>0.003593</td>\n",
       "      <td>0.000960</td>\n",
       "      <td>0.000712</td>\n",
       "      <td>0.000690</td>\n",
       "    </tr>\n",
       "    <tr>\n",
       "      <th>29998</th>\n",
       "      <td>0.003822</td>\n",
       "      <td>0.003903</td>\n",
       "      <td>0.004951</td>\n",
       "      <td>0.001955</td>\n",
       "      <td>0.00307</td>\n",
       "      <td>0.016459</td>\n",
       "      <td>0.011305</td>\n",
       "      <td>0.029642</td>\n",
       "      <td>0.028704</td>\n",
       "      <td>0.039625</td>\n",
       "      <td>0.003593</td>\n",
       "      <td>0.000964</td>\n",
       "      <td>0.000774</td>\n",
       "      <td>0.000829</td>\n",
       "    </tr>\n",
       "    <tr>\n",
       "      <th>29999</th>\n",
       "      <td>0.003876</td>\n",
       "      <td>0.004065</td>\n",
       "      <td>0.004491</td>\n",
       "      <td>0.001621</td>\n",
       "      <td>0.00389</td>\n",
       "      <td>0.015696</td>\n",
       "      <td>0.012205</td>\n",
       "      <td>0.031058</td>\n",
       "      <td>0.028710</td>\n",
       "      <td>0.039617</td>\n",
       "      <td>0.003595</td>\n",
       "      <td>0.000898</td>\n",
       "      <td>0.000803</td>\n",
       "      <td>0.000800</td>\n",
       "    </tr>\n",
       "  </tbody>\n",
       "</table>\n",
       "<p>30000 rows × 14 columns</p>\n",
       "</div>"
      ],
      "text/plain": [
       "             0         1         2         3        4         5         6   \\\n",
       "0      1.000000  1.000000  1.000000  1.000000  1.00000  1.000000  1.000000   \n",
       "1      1.000000  1.000000  1.000000  1.000000  1.00000  1.000000  1.000000   \n",
       "2      1.000000  1.000000  1.000000  1.000000  1.00000  1.000000  1.000000   \n",
       "3      1.000000  1.000000  1.000000  1.000000  1.00000  1.000000  1.000000   \n",
       "4      0.004573  0.003135  0.004873  0.001611  0.00273  0.009171  0.008503   \n",
       "...         ...       ...       ...       ...      ...       ...       ...   \n",
       "29995  0.004262  0.004045  0.004999  0.001601  0.00412  0.023041  0.012705   \n",
       "29996  0.004127  0.003757  0.005452  0.001798  0.00412  0.017754  0.014106   \n",
       "29997  0.004364  0.003831  0.005422  0.001703  0.00381  0.019101  0.012405   \n",
       "29998  0.003822  0.003903  0.004951  0.001955  0.00307  0.016459  0.011305   \n",
       "29999  0.003876  0.004065  0.004491  0.001621  0.00389  0.015696  0.012205   \n",
       "\n",
       "             7         8         9         10        11        12        13  \n",
       "0      1.000000  1.000000  1.000000  1.000000  1.000000  1.000000  1.000000  \n",
       "1      1.000000  1.000000  1.000000  1.000000  1.000000  1.000000  1.000000  \n",
       "2      1.000000  1.000000  1.000000  1.000000  1.000000  1.000000  1.000000  \n",
       "3      1.000000  1.000000  1.000000  1.000000  1.000000  1.000000  1.000000  \n",
       "4      0.029991  0.028698  0.040607  0.002666  0.001001  0.000916  0.000713  \n",
       "...         ...       ...       ...       ...       ...       ...       ...  \n",
       "29995  0.029322  0.028690  0.039643  0.003590  0.000937  0.000645  0.000747  \n",
       "29996  0.027692  0.028694  0.039636  0.003591  0.000922  0.000757  0.000774  \n",
       "29997  0.027595  0.028701  0.039629  0.003593  0.000960  0.000712  0.000690  \n",
       "29998  0.029642  0.028704  0.039625  0.003593  0.000964  0.000774  0.000829  \n",
       "29999  0.031058  0.028710  0.039617  0.003595  0.000898  0.000803  0.000800  \n",
       "\n",
       "[30000 rows x 14 columns]"
      ]
     },
     "execution_count": 14,
     "metadata": {},
     "output_type": "execute_result"
    }
   ],
   "source": [
    "prediction_data_scaled = pd.DataFrame(scaler.transform(prediction_data))\n",
    "prediction_data_scaled"
   ]
  },
  {
   "cell_type": "code",
   "execution_count": 15,
   "id": "afaee114",
   "metadata": {},
   "outputs": [],
   "source": [
    "prediction_data_scaled.rename(columns = {'Factor A' : 0, 'Factor B' : 1, 'Factor C': 2, 'Factor D': 3, 'Factor E': 4,\n",
    "       'Factor F': 5, 'Factor G': 6, 'Factor H': 7, 'Factor I': 8, 'Factor J': 9, 'Factor K': 10,\n",
    "       'Factor L': 11, 'Factor M': 12, 'Factor N': 13}, inplace = True)"
   ]
  },
  {
   "cell_type": "markdown",
   "id": "010bf4b5",
   "metadata": {},
   "source": [
    "# Consultancy Final Predictions"
   ]
  },
  {
   "cell_type": "code",
   "execution_count": 16,
   "id": "b3499535",
   "metadata": {},
   "outputs": [
    {
     "data": {
      "text/plain": [
       "array([511.27294196, 511.27294196, 511.27294196, ..., 514.78      ,\n",
       "       509.8       , 513.43      ])"
      ]
     },
     "execution_count": 16,
     "metadata": {},
     "output_type": "execute_result"
    }
   ],
   "source": [
    "consultant_predict = consultant_model.predict(prediction_data_scaled)\n",
    "consultant_predict"
   ]
  },
  {
   "cell_type": "code",
   "execution_count": 29,
   "id": "12283eea",
   "metadata": {},
   "outputs": [
    {
     "data": {
      "image/png": "[encoded data removed]",
      "text/plain": [
       "<Figure size 576x432 with 1 Axes>"
      ]
     },
     "metadata": {
      "needs_background": "light"
     },
     "output_type": "display_data"
    }
   ],
   "source": [
    "plt.figure(figsize=(8,6))\n",
    "plt.plot(consultant_predict, color= 'magenta')\n",
    "plt.xlabel('ith day')\n",
    "plt.ylabel('Stock Price')\n",
    "plt.title('Consultancy Stock Price Predictions')\n",
    "plt.show()"
   ]
  },
  {
   "cell_type": "markdown",
   "id": "1e928d25",
   "metadata": {},
   "source": [
    "# Automobile Final Predicitons"
   ]
  },
  {
   "cell_type": "code",
   "execution_count": 17,
   "id": "6decf711",
   "metadata": {},
   "outputs": [
    {
     "data": {
      "text/plain": [
       "array([417.97932499, 417.97932499, 417.97932499, ..., 423.31      ,\n",
       "       416.76      , 418.43      ])"
      ]
     },
     "execution_count": 17,
     "metadata": {},
     "output_type": "execute_result"
    }
   ],
   "source": [
    "automobile_predict = automobile_model.predict(prediction_data_scaled)\n",
    "automobile_predict"
   ]
  },
  {
   "cell_type": "code",
   "execution_count": 31,
   "id": "619630fe",
   "metadata": {},
   "outputs": [
    {
     "data": {
      "image/png": "[encoded data removed]",
      "text/plain": [
       "<Figure size 576x432 with 1 Axes>"
      ]
     },
     "metadata": {
      "needs_background": "light"
     },
     "output_type": "display_data"
    }
   ],
   "source": [
    "plt.figure(figsize=(8,6))\n",
    "plt.plot(automobile_predict, color= 'grey')\n",
    "plt.xlabel('ith day')\n",
    "plt.ylabel('Stock Price')\n",
    "plt.title('Consultancy Stock Price Predictions')\n",
    "plt.show()"
   ]
  },
  {
   "cell_type": "markdown",
   "id": "cd87010f",
   "metadata": {},
   "source": [
    "# Power Final Predictions"
   ]
  },
  {
   "cell_type": "code",
   "execution_count": 18,
   "id": "d5b255f2",
   "metadata": {
    "scrolled": true
   },
   "outputs": [
    {
     "data": {
      "text/plain": [
       "array([510.02404296, 510.02404296, 510.02404296, ..., 512.05      ,\n",
       "       507.77      , 509.34      ])"
      ]
     },
     "execution_count": 18,
     "metadata": {},
     "output_type": "execute_result"
    }
   ],
   "source": [
    "power_predict = power_model.predict(prediction_data_scaled)\n",
    "power_predict"
   ]
  },
  {
   "cell_type": "code",
   "execution_count": 26,
   "id": "b8e75aa8",
   "metadata": {},
   "outputs": [
    {
     "data": {
      "image/png": "[encoded data removed]",
      "text/plain": [
       "<Figure size 576x432 with 1 Axes>"
      ]
     },
     "metadata": {
      "needs_background": "light"
     },
     "output_type": "display_data"
    }
   ],
   "source": [
    "plt.figure(figsize=(8,6))\n",
    "plt.plot(power_predict, color= 'orange')\n",
    "plt.xlabel('ith day')\n",
    "plt.ylabel('Stock Price')\n",
    "plt.title('Power Stock Price Predictions')\n",
    "plt.show()"
   ]
  },
  {
   "cell_type": "markdown",
   "id": "bf97df1f",
   "metadata": {},
   "source": [
    "# Combining all the values"
   ]
  },
  {
   "cell_type": "code",
   "execution_count": 19,
   "id": "59e944db",
   "metadata": {},
   "outputs": [
    {
     "data": {
      "text/html": [
       "<div>\n",
       "<style scoped>\n",
       "    .dataframe tbody tr th:only-of-type {\n",
       "        vertical-align: middle;\n",
       "    }\n",
       "\n",
       "    .dataframe tbody tr th {\n",
       "        vertical-align: top;\n",
       "    }\n",
       "\n",
       "    .dataframe thead th {\n",
       "        text-align: right;\n",
       "    }\n",
       "</style>\n",
       "<table border=\"1\" class=\"dataframe\">\n",
       "  <thead>\n",
       "    <tr style=\"text-align: right;\">\n",
       "      <th></th>\n",
       "      <th>predicted</th>\n",
       "    </tr>\n",
       "  </thead>\n",
       "  <tbody>\n",
       "    <tr>\n",
       "      <th>0</th>\n",
       "      <td>1439.27631</td>\n",
       "    </tr>\n",
       "    <tr>\n",
       "      <th>1</th>\n",
       "      <td>1439.27631</td>\n",
       "    </tr>\n",
       "    <tr>\n",
       "      <th>2</th>\n",
       "      <td>1439.27631</td>\n",
       "    </tr>\n",
       "    <tr>\n",
       "      <th>3</th>\n",
       "      <td>1439.27631</td>\n",
       "    </tr>\n",
       "    <tr>\n",
       "      <th>4</th>\n",
       "      <td>1435.14000</td>\n",
       "    </tr>\n",
       "    <tr>\n",
       "      <th>...</th>\n",
       "      <td>...</td>\n",
       "    </tr>\n",
       "    <tr>\n",
       "      <th>29995</th>\n",
       "      <td>1456.36000</td>\n",
       "    </tr>\n",
       "    <tr>\n",
       "      <th>29996</th>\n",
       "      <td>1436.59000</td>\n",
       "    </tr>\n",
       "    <tr>\n",
       "      <th>29997</th>\n",
       "      <td>1450.14000</td>\n",
       "    </tr>\n",
       "    <tr>\n",
       "      <th>29998</th>\n",
       "      <td>1434.33000</td>\n",
       "    </tr>\n",
       "    <tr>\n",
       "      <th>29999</th>\n",
       "      <td>1441.20000</td>\n",
       "    </tr>\n",
       "  </tbody>\n",
       "</table>\n",
       "<p>30000 rows × 1 columns</p>\n",
       "</div>"
      ],
      "text/plain": [
       "        predicted\n",
       "0      1439.27631\n",
       "1      1439.27631\n",
       "2      1439.27631\n",
       "3      1439.27631\n",
       "4      1435.14000\n",
       "...           ...\n",
       "29995  1456.36000\n",
       "29996  1436.59000\n",
       "29997  1450.14000\n",
       "29998  1434.33000\n",
       "29999  1441.20000\n",
       "\n",
       "[30000 rows x 1 columns]"
      ]
     },
     "execution_count": 19,
     "metadata": {},
     "output_type": "execute_result"
    }
   ],
   "source": [
    "y_values_final = (pd.DataFrame([consultant_predict + automobile_predict + power_predict]))\n",
    "y_values_final= y_values_final.T\n",
    "y_values_final.rename(columns = {0:'predicted'}, inplace=True)\n",
    "y_values_final"
   ]
  },
  {
   "cell_type": "code",
   "execution_count": 27,
   "id": "28d2797a",
   "metadata": {},
   "outputs": [
    {
     "data": {
      "image/png": "[encoded data removed]",
      "text/plain": [
       "<Figure size 576x432 with 1 Axes>"
      ]
     },
     "metadata": {
      "needs_background": "light"
     },
     "output_type": "display_data"
    }
   ],
   "source": [
    "plt.figure(figsize=(8,6))\n",
    "plt.plot(y_values_final, color = 'blue')\n",
    "plt.xlabel('ith day')\n",
    "plt.ylabel('Stock Price')\n",
    "plt.title('Total Stock Price Predictions')\n",
    "plt.show()"
   ]
  }
 ],
 "metadata": {
  "kernelspec": {
   "display_name": "Python 3 (ipykernel)",
   "language": "python",
   "name": "python3"
  },
  "language_info": {
   "codemirror_mode": {
    "name": "ipython",
    "version": 3
   },
   "file_extension": ".py",
   "mimetype": "text/x-python",
   "name": "python",
   "nbconvert_exporter": "python",
   "pygments_lexer": "ipython3",
   "version": "3.9.12"
  }
 },
 "nbformat": 4,
 "nbformat_minor": 5
}
